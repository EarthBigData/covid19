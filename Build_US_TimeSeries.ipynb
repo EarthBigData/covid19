{
 "cells": [
  {
   "cell_type": "code",
   "execution_count": 1,
   "metadata": {},
   "outputs": [],
   "source": [
    "import pandas as pd\n",
    "import sys,os\n",
    "import datetime as dt\n",
    "import subprocess as sp\n",
    "import glob"
   ]
  },
  {
   "cell_type": "code",
   "execution_count": 18,
   "metadata": {},
   "outputs": [],
   "source": [
    "# GET THE DAILY DATA FROM JOHNS HOPKINS\n",
    "jhu_daily_root='https://raw.githubusercontent.com/CSSEGISandData/COVID-19/master/csse_covid_19_data/csse_covid_19_daily_reports/'\n",
    "outdir='/s/data/covid19/daily'\n",
    "os.makedirs(outdir,exist_ok=True)\n",
    "sdate=dt.datetime(2020,3,22).date()\n",
    "edate=(dt.datetime.now()+dt.timedelta(1)).date()\n",
    "for i in pd.date_range(sdate,edate):\n",
    "    fname=i.date().strftime('%m-%d-%Y')+'.csv'\n",
    "    rname = jhu_daily_root+fname\n",
    "    lname = os.path.join(outdir,fname)\n",
    "    cmd='wget -c -O {} {}\\n'.format(lname,rname)\n",
    "    sp.call(cmd.split())"
   ]
  },
  {
   "cell_type": "code",
   "execution_count": 10,
   "metadata": {},
   "outputs": [],
   "source": [
    "# BUILD THE TIME SERIES FILES FOR THE US FROM THE DAILY DATA\n",
    "daily=[x for x in glob.glob(os.path.join(outdir,'*.csv')) if os.stat(x).st_size>0]\n",
    "daily.sort()\n",
    "# for i in daily:\n",
    "#     print(i)\n",
    "# First series\n",
    "df = pd.read_csv(daily[0])\n",
    "df=df[df.Country_Region=='US']\n",
    "\n",
    "try:\n",
    "    dates = df.Last_Update.str.split(' ').apply(lambda x: dt.datetime.strptime(x[0].strip(),'%Y-%m-%d'))\n",
    "except ValueError:\n",
    "    dates = df.Last_Update.str.split(' ').apply(lambda x: dt.datetime.strptime(x[0].strip(),'%m/%d/%y'))\n",
    "df['Last_Update']=dates\n",
    "\n",
    "# Add on other dates\n",
    "for i in daily[1:]:\n",
    "    df_daily=pd.read_csv(i)\n",
    "    df_daily=df_daily[df_daily.Country_Region=='US']\n",
    "    #Filter for US\n",
    "    df_daily.dropna(inplace=True)  \n",
    "    try:\n",
    "        dates = df_daily.Last_Update.str.split(' ').apply(lambda x: dt.datetime.strptime(x[0].strip(),'%Y-%m-%d'))\n",
    "    except ValueError:\n",
    "        dates = df_daily.Last_Update.str.split(' ').apply(lambda x: dt.datetime.strptime(x[0].strip(),'%m/%d/%y'))\n",
    "    \n",
    "    df_daily['Last_Update']=dates\n",
    "\n",
    "    df = df.append(df_daily)\n",
    "\n",
    "df2=df.groupby(['Combined_Key','Last_Update']).sum()"
   ]
  },
  {
   "cell_type": "code",
   "execution_count": 17,
   "metadata": {},
   "outputs": [],
   "source": [
    "## Loop over the three types and write CSV\n",
    "for covid in ['Confirmed','Deaths','Recovered']:\n",
    "    cv19=df2[covid]\n",
    "    cv19=cv19.unstack()\n",
    "    df3  = pd.DataFrame(pd.Series(df[df.Combined_Key==cv19.index[0]].iloc[0,:7]).append(cv19.loc[cv19.index[0]]))\n",
    "    series=[]\n",
    "    for i in cv19.index:\n",
    "        series.append(pd.DataFrame(pd.Series(df[df.Combined_Key==i].iloc[0,:7]).append(cv19.loc[i])))\n",
    "    df4=pd.concat(series,axis=1)\n",
    "    df5=df4.T\n",
    "    df5.drop('Last_Update',1,inplace=True)\n",
    "#     df5=df5.astype({'FIPS':'int32'})\n",
    "    df5=df5.set_index('FIPS')\n",
    "    df5.to_csv('/s/data/covid19/ebd_us_{}.csv'.format(covid))"
   ]
  },
  {
   "cell_type": "code",
   "execution_count": null,
   "metadata": {},
   "outputs": [],
   "source": [
    "# df10=pd.read_csv('/s/data/covid19/ebd_us_Confirmed.csv')"
   ]
  },
  {
   "cell_type": "code",
   "execution_count": null,
   "metadata": {},
   "outputs": [],
   "source": [
    "# df10[df10.Admin2=='Sonoma']"
   ]
  }
 ],
 "metadata": {
  "kernelspec": {
   "display_name": "seppo",
   "language": "python",
   "name": "seppo"
  },
  "language_info": {
   "codemirror_mode": {
    "name": "ipython",
    "version": 3
   },
   "file_extension": ".py",
   "mimetype": "text/x-python",
   "name": "python",
   "nbconvert_exporter": "python",
   "pygments_lexer": "ipython3",
   "version": "3.7.6"
  }
 },
 "nbformat": 4,
 "nbformat_minor": 4
}
