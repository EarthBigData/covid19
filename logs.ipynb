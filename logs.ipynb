{
 "cells": [
  {
   "cell_type": "code",
   "execution_count": 30,
   "metadata": {},
   "outputs": [],
   "source": [
    "import boto3\n",
    "import os,sys\n",
    "import datetime as dt\n",
    "import glob\n",
    "import pandas as pd\n",
    "pd.set_option('display.max_rows', 1000)\n",
    "import hvplot.pandas\n",
    "import holoviews as hv\n",
    "import subprocess as sp"
   ]
  },
  {
   "cell_type": "code",
   "execution_count": 31,
   "metadata": {},
   "outputs": [],
   "source": [
    "os.makedirs('/dev/shm/logs',exist_ok=True)\n",
    "os.chdir('/dev/shm/logs')"
   ]
  },
  {
   "cell_type": "code",
   "execution_count": 32,
   "metadata": {},
   "outputs": [],
   "source": [
    "!aws s3 sync s3://earthbigdata/logs/ /dev/shm/logs --quiet"
   ]
  },
  {
   "cell_type": "code",
   "execution_count": 33,
   "metadata": {},
   "outputs": [],
   "source": [
    "def make_entry(ip_dict,date_dict,logfile):  \n",
    "    with open(logfile,\"r\") as f:\n",
    "        lines=f.readlines()\n",
    "    date = lines[0].split('[')[1].split('+')[0].strip()\n",
    "    date = dt.datetime.strptime(date,'%d/%b/%Y:%H:%M:%S')\n",
    "    ipaddr=lines[0].split(']')[1].split('-')[0].strip()\n",
    "    if not ipaddr in ip_dict:\n",
    "        ip_dict[ipaddr]=[]\n",
    "    if not date.date() in date_dict:\n",
    "        date_dict[date.date()]=0\n",
    "    ip_dict[ipaddr].append(date)\n",
    "    date_dict[date.date()]+=1\n",
    "    "
   ]
  },
  {
   "cell_type": "code",
   "execution_count": 34,
   "metadata": {},
   "outputs": [],
   "source": [
    "ip_dict={}\n",
    "date_dict={}\n",
    "\n",
    "for log in glob.glob('ebd-covid19*'):\n",
    "    make_entry(ip_dict,date_dict,log)"
   ]
  },
  {
   "cell_type": "code",
   "execution_count": 35,
   "metadata": {},
   "outputs": [],
   "source": [
    "access=pd.DataFrame.from_dict(date_dict,orient='index')"
   ]
  },
  {
   "cell_type": "code",
   "execution_count": 36,
   "metadata": {},
   "outputs": [],
   "source": [
    "access.sort_index(inplace=True,ascending=False)"
   ]
  },
  {
   "cell_type": "code",
   "execution_count": 37,
   "metadata": {},
   "outputs": [
    {
     "data": {
      "application/vnd.holoviews_exec.v0+json": "",
      "text/html": [
       "<div id='1226' style='display: table; margin: 0 auto;'>\n",
       "\n",
       "\n",
       "\n",
       "\n",
       "\n",
       "  <div class=\"bk-root\" id=\"f9ffd650-8e48-4450-a802-55c119b4dc05\" data-root-id=\"1226\"></div>\n",
       "</div>\n",
       "<script type=\"application/javascript\">(function(root) {\n",
       "  function embed_document(root) {\n",
       "    \n",
       "  var docs_json = {\"c44c6c57-3bae-405b-9a5a-8f8b1d312f35\":{\"roots\":{\"references\":[{\"attributes\":{\"align\":null,\"below\":[{\"id\":\"1235\",\"type\":\"LinearAxis\"}],\"center\":[{\"id\":\"1239\",\"type\":\"Grid\"},{\"id\":\"1243\",\"type\":\"Grid\"}],\"left\":[{\"id\":\"1240\",\"type\":\"CategoricalAxis\"}],\"margin\":null,\"min_border_bottom\":10,\"min_border_left\":10,\"min_border_right\":10,\"min_border_top\":10,\"plot_height\":300,\"plot_width\":700,\"renderers\":[{\"id\":\"1262\",\"type\":\"GlyphRenderer\"}],\"sizing_mode\":\"fixed\",\"title\":{\"id\":\"1227\",\"type\":\"Title\"},\"toolbar\":{\"id\":\"1249\",\"type\":\"Toolbar\"},\"x_range\":{\"id\":\"1223\",\"type\":\"Range1d\"},\"x_scale\":{\"id\":\"1231\",\"type\":\"LinearScale\"},\"y_range\":{\"id\":\"1224\",\"type\":\"FactorRange\"},\"y_scale\":{\"id\":\"1233\",\"type\":\"CategoricalScale\"}},\"id\":\"1226\",\"subtype\":\"Figure\",\"type\":\"Plot\"},{\"attributes\":{},\"id\":\"1245\",\"type\":\"PanTool\"},{\"attributes\":{},\"id\":\"1246\",\"type\":\"WheelZoomTool\"},{\"attributes\":{\"active_drag\":\"auto\",\"active_inspect\":\"auto\",\"active_multi\":null,\"active_scroll\":\"auto\",\"active_tap\":\"auto\",\"tools\":[{\"id\":\"1225\",\"type\":\"HoverTool\"},{\"id\":\"1244\",\"type\":\"SaveTool\"},{\"id\":\"1245\",\"type\":\"PanTool\"},{\"id\":\"1246\",\"type\":\"WheelZoomTool\"},{\"id\":\"1247\",\"type\":\"BoxZoomTool\"},{\"id\":\"1248\",\"type\":\"ResetTool\"}]},\"id\":\"1249\",\"type\":\"Toolbar\"},{\"attributes\":{\"fill_color\":{\"value\":\"#1f77b3\"},\"height\":{\"value\":0.8},\"right\":{\"field\":\"A_0\"},\"y\":{\"field\":\"index\"}},\"id\":\"1259\",\"type\":\"HBar\"},{\"attributes\":{},\"id\":\"1266\",\"type\":\"CategoricalTickFormatter\"},{\"attributes\":{\"fill_alpha\":{\"value\":0.1},\"fill_color\":{\"value\":\"#1f77b3\"},\"height\":{\"value\":0.8},\"line_alpha\":{\"value\":0.1},\"line_color\":{\"value\":\"black\"},\"right\":{\"field\":\"A_0\"},\"y\":{\"field\":\"index\"}},\"id\":\"1260\",\"type\":\"HBar\"},{\"attributes\":{\"axis_label\":\"Access Times per day\",\"bounds\":\"auto\",\"formatter\":{\"id\":\"1265\",\"type\":\"BasicTickFormatter\"},\"major_label_orientation\":\"horizontal\",\"ticker\":{\"id\":\"1236\",\"type\":\"BasicTicker\"}},\"id\":\"1235\",\"type\":\"LinearAxis\"},{\"attributes\":{},\"id\":\"1257\",\"type\":\"Selection\"},{\"attributes\":{\"bounds\":\"auto\",\"formatter\":{\"id\":\"1266\",\"type\":\"CategoricalTickFormatter\"},\"major_label_orientation\":\"horizontal\",\"ticker\":{\"id\":\"1241\",\"type\":\"CategoricalTicker\"}},\"id\":\"1240\",\"type\":\"CategoricalAxis\"},{\"attributes\":{},\"id\":\"1241\",\"type\":\"CategoricalTicker\"},{\"attributes\":{},\"id\":\"1233\",\"type\":\"CategoricalScale\"},{\"attributes\":{\"callback\":null,\"factors\":[\"2020-04-02\",\"2020-04-01\",\"2020-03-31\",\"2020-03-30\",\"2020-03-29\",\"2020-03-28\",\"2020-03-27\",\"2020-03-26\",\"2020-03-25\",\"2020-03-24\",\"2020-03-23\",\"2020-03-22\",\"2020-03-21\",\"2020-03-20\"],\"tags\":[[[\"index\",\"index\",null]]]},\"id\":\"1224\",\"type\":\"FactorRange\"},{\"attributes\":{},\"id\":\"1265\",\"type\":\"BasicTickFormatter\"},{\"attributes\":{\"source\":{\"id\":\"1256\",\"type\":\"ColumnDataSource\"}},\"id\":\"1263\",\"type\":\"CDSView\"},{\"attributes\":{},\"id\":\"1236\",\"type\":\"BasicTicker\"},{\"attributes\":{},\"id\":\"1276\",\"type\":\"UnionRenderers\"},{\"attributes\":{\"data_source\":{\"id\":\"1256\",\"type\":\"ColumnDataSource\"},\"glyph\":{\"id\":\"1259\",\"type\":\"HBar\"},\"hover_glyph\":null,\"muted_glyph\":{\"id\":\"1261\",\"type\":\"HBar\"},\"nonselection_glyph\":{\"id\":\"1260\",\"type\":\"HBar\"},\"selection_glyph\":null,\"view\":{\"id\":\"1263\",\"type\":\"CDSView\"}},\"id\":\"1262\",\"type\":\"GlyphRenderer\"},{\"attributes\":{\"dimension\":1,\"ticker\":{\"id\":\"1241\",\"type\":\"CategoricalTicker\"}},\"id\":\"1243\",\"type\":\"Grid\"},{\"attributes\":{\"ticker\":{\"id\":\"1236\",\"type\":\"BasicTicker\"}},\"id\":\"1239\",\"type\":\"Grid\"},{\"attributes\":{\"fill_alpha\":{\"value\":0.2},\"fill_color\":{\"value\":\"#1f77b3\"},\"height\":{\"value\":0.8},\"line_alpha\":{\"value\":0.2},\"line_color\":{\"value\":\"black\"},\"right\":{\"field\":\"A_0\"},\"y\":{\"field\":\"index\"}},\"id\":\"1261\",\"type\":\"HBar\"},{\"attributes\":{\"bottom_units\":\"screen\",\"fill_alpha\":{\"value\":0.5},\"fill_color\":{\"value\":\"lightgrey\"},\"left_units\":\"screen\",\"level\":\"overlay\",\"line_alpha\":{\"value\":1.0},\"line_color\":{\"value\":\"black\"},\"line_dash\":[4,4],\"line_width\":{\"value\":2},\"render_mode\":\"css\",\"right_units\":\"screen\",\"top_units\":\"screen\"},\"id\":\"1277\",\"type\":\"BoxAnnotation\"},{\"attributes\":{\"overlay\":{\"id\":\"1277\",\"type\":\"BoxAnnotation\"}},\"id\":\"1247\",\"type\":\"BoxZoomTool\"},{\"attributes\":{\"callback\":null,\"data\":{\"A_0\":[269,582,663,481,441,361,408,563,715,721,1745,637,800,277],\"index\":[\"2020-04-02\",\"2020-04-01\",\"2020-03-31\",\"2020-03-30\",\"2020-03-29\",\"2020-03-28\",\"2020-03-27\",\"2020-03-26\",\"2020-03-25\",\"2020-03-24\",\"2020-03-23\",\"2020-03-22\",\"2020-03-21\",\"2020-03-20\"]},\"selected\":{\"id\":\"1257\",\"type\":\"Selection\"},\"selection_policy\":{\"id\":\"1276\",\"type\":\"UnionRenderers\"}},\"id\":\"1256\",\"type\":\"ColumnDataSource\"},{\"attributes\":{\"callback\":null,\"renderers\":[{\"id\":\"1262\",\"type\":\"GlyphRenderer\"}],\"tags\":[\"hv_created\"],\"tooltips\":[[\"index\",\"@{index}\"],[\"0\",\"@{A_0}\"]]},\"id\":\"1225\",\"type\":\"HoverTool\"},{\"attributes\":{},\"id\":\"1244\",\"type\":\"SaveTool\"},{\"attributes\":{},\"id\":\"1231\",\"type\":\"LinearScale\"},{\"attributes\":{},\"id\":\"1248\",\"type\":\"ResetTool\"},{\"attributes\":{\"text\":\"EBD COVID 19 Access\",\"text_color\":{\"value\":\"black\"},\"text_font_size\":{\"value\":\"12pt\"}},\"id\":\"1227\",\"type\":\"Title\"},{\"attributes\":{\"callback\":null,\"end\":1892.6,\"reset_end\":1892.6,\"reset_start\":0.0,\"tags\":[[[\"0\",\"0\",null]]]},\"id\":\"1223\",\"type\":\"Range1d\"}],\"root_ids\":[\"1226\"]},\"title\":\"Bokeh Application\",\"version\":\"1.4.0\"}};\n",
       "  var render_items = [{\"docid\":\"c44c6c57-3bae-405b-9a5a-8f8b1d312f35\",\"roots\":{\"1226\":\"f9ffd650-8e48-4450-a802-55c119b4dc05\"}}];\n",
       "  root.Bokeh.embed.embed_items_notebook(docs_json, render_items);\n",
       "\n",
       "  }\n",
       "  if (root.Bokeh !== undefined) {\n",
       "    embed_document(root);\n",
       "  } else {\n",
       "    var attempts = 0;\n",
       "    var timer = setInterval(function(root) {\n",
       "      if (root.Bokeh !== undefined) {\n",
       "        clearInterval(timer);\n",
       "        embed_document(root);\n",
       "      } else {\n",
       "        attempts++;\n",
       "        if (attempts > 100) {\n",
       "          clearInterval(timer);\n",
       "          console.log(\"Bokeh: ERROR: Unable to run BokehJS code because BokehJS library is missing\");\n",
       "        }\n",
       "      }\n",
       "    }, 10, root)\n",
       "  }\n",
       "})(window);</script>"
      ],
      "text/plain": [
       ":Bars   [index]   (0)"
      ]
     },
     "execution_count": 37,
     "metadata": {
      "application/vnd.holoviews_exec.v0+json": {
       "id": "1226"
      }
     },
     "output_type": "execute_result"
    }
   ],
   "source": [
    "access.hvplot.barh(padding=0.1,grid=True,ylabel='Access Times per day',xlabel='',title='EBD COVID 19 Access')"
   ]
  },
  {
   "cell_type": "code",
   "execution_count": 38,
   "metadata": {},
   "outputs": [],
   "source": [
    "ip_count={}\n",
    "for i in ip_dict:\n",
    "    ip_count[i]=len(ip_dict[i])"
   ]
  },
  {
   "cell_type": "code",
   "execution_count": 39,
   "metadata": {},
   "outputs": [],
   "source": [
    "access_count=pd.DataFrame.from_dict(ip_count,orient='index')\n",
    "\n",
    "access_count=access_count[access_count>=5].dropna()\n",
    "\n",
    "access_count = access_count.sort_values(0,ascending=False)\n",
    "\n",
    "access_count['nslookup']=''\n",
    "for i in access_count.index:\n",
    "    cmd='nslookup {}'.format(i)\n",
    "    try:\n",
    "        ret= sp.check_output(cmd.split())\n",
    "        nslookup = ret.decode().split('name = ')[1].split('\\n')[0].strip('.')\n",
    "        # print(nslookup)\n",
    "        access_count.loc[i,'nslookup']=nslookup\n",
    "    except:\n",
    "        pass"
   ]
  },
  {
   "cell_type": "code",
   "execution_count": 40,
   "metadata": {},
   "outputs": [
    {
     "data": {
      "text/html": [
       "<div>\n",
       "<style scoped>\n",
       "    .dataframe tbody tr th:only-of-type {\n",
       "        vertical-align: middle;\n",
       "    }\n",
       "\n",
       "    .dataframe tbody tr th {\n",
       "        vertical-align: top;\n",
       "    }\n",
       "\n",
       "    .dataframe thead th {\n",
       "        text-align: right;\n",
       "    }\n",
       "</style>\n",
       "<table border=\"1\" class=\"dataframe\">\n",
       "  <thead>\n",
       "    <tr style=\"text-align: right;\">\n",
       "      <th></th>\n",
       "      <th>0</th>\n",
       "      <th>nslookup</th>\n",
       "    </tr>\n",
       "  </thead>\n",
       "  <tbody>\n",
       "    <tr>\n",
       "      <th>24.218.227.219</th>\n",
       "      <td>502.0</td>\n",
       "      <td>c-24-218-227-219.hsd1.ma.comcast.net</td>\n",
       "    </tr>\n",
       "    <tr>\n",
       "      <th>52.44.93.197</th>\n",
       "      <td>131.0</td>\n",
       "      <td>ec2-52-44-93-197.compute-1.amazonaws.com</td>\n",
       "    </tr>\n",
       "    <tr>\n",
       "      <th>73.23.120.180</th>\n",
       "      <td>112.0</td>\n",
       "      <td>c-73-23-120-180.hsd1.fl.comcast.net</td>\n",
       "    </tr>\n",
       "    <tr>\n",
       "      <th>34.231.157.157</th>\n",
       "      <td>111.0</td>\n",
       "      <td>ec2-34-231-157-157.compute-1.amazonaws.com</td>\n",
       "    </tr>\n",
       "    <tr>\n",
       "      <th>34.232.127.140</th>\n",
       "      <td>106.0</td>\n",
       "      <td>ec2-34-232-127-140.compute-1.amazonaws.com</td>\n",
       "    </tr>\n",
       "    <tr>\n",
       "      <th>93.218.246.5</th>\n",
       "      <td>71.0</td>\n",
       "      <td>p5DDAF605.dip0.t-ipconnect.de</td>\n",
       "    </tr>\n",
       "    <tr>\n",
       "      <th>71.232.190.220</th>\n",
       "      <td>64.0</td>\n",
       "      <td>c-71-232-190-220.hsd1.ma.comcast.net</td>\n",
       "    </tr>\n",
       "    <tr>\n",
       "      <th>72.205.80.22</th>\n",
       "      <td>61.0</td>\n",
       "      <td>ip72-205-80-22.sb.sd.cox.net</td>\n",
       "    </tr>\n",
       "    <tr>\n",
       "      <th>107.193.48.19</th>\n",
       "      <td>59.0</td>\n",
       "      <td>107-193-48-19.lightspeed.sndgca.sbcglobal.net</td>\n",
       "    </tr>\n",
       "    <tr>\n",
       "      <th>68.48.240.2</th>\n",
       "      <td>58.0</td>\n",
       "      <td>c-68-48-240-2.hsd1.mi.comcast.net</td>\n",
       "    </tr>\n",
       "    <tr>\n",
       "      <th>73.143.234.232</th>\n",
       "      <td>53.0</td>\n",
       "      <td>c-73-143-234-232.hsd1.ma.comcast.net</td>\n",
       "    </tr>\n",
       "    <tr>\n",
       "      <th>70.191.91.13</th>\n",
       "      <td>53.0</td>\n",
       "      <td>ip70-191-91-13.sb.sd.cox.net</td>\n",
       "    </tr>\n",
       "    <tr>\n",
       "      <th>69.136.148.43</th>\n",
       "      <td>49.0</td>\n",
       "      <td>c-69-136-148-43.hsd1.mi.comcast.net</td>\n",
       "    </tr>\n",
       "    <tr>\n",
       "      <th>108.218.159.111</th>\n",
       "      <td>46.0</td>\n",
       "      <td>108-218-159-111.lightspeed.irvnca.sbcglobal.net</td>\n",
       "    </tr>\n",
       "    <tr>\n",
       "      <th>66.215.238.104</th>\n",
       "      <td>46.0</td>\n",
       "      <td>66-215-238-104.dhcp.rvsd.ca.charter.com</td>\n",
       "    </tr>\n",
       "    <tr>\n",
       "      <th>73.143.185.57</th>\n",
       "      <td>43.0</td>\n",
       "      <td>c-73-143-185-57.hsd1.ma.comcast.net</td>\n",
       "    </tr>\n",
       "    <tr>\n",
       "      <th>76.126.182.37</th>\n",
       "      <td>42.0</td>\n",
       "      <td>c-76-126-182-37.hsd1.ca.comcast.net</td>\n",
       "    </tr>\n",
       "    <tr>\n",
       "      <th>75.67.148.39</th>\n",
       "      <td>41.0</td>\n",
       "      <td>c-75-67-148-39.hsd1.ma.comcast.net</td>\n",
       "    </tr>\n",
       "    <tr>\n",
       "      <th>73.234.86.250</th>\n",
       "      <td>39.0</td>\n",
       "      <td>c-73-234-86-250.hsd1.ma.comcast.net</td>\n",
       "    </tr>\n",
       "    <tr>\n",
       "      <th>148.74.48.58</th>\n",
       "      <td>38.0</td>\n",
       "      <td>ool-944a303a.dyn.optonline.net</td>\n",
       "    </tr>\n",
       "    <tr>\n",
       "      <th>76.30.108.215</th>\n",
       "      <td>38.0</td>\n",
       "      <td>c-76-30-108-215.hsd1.tx.comcast.net</td>\n",
       "    </tr>\n",
       "    <tr>\n",
       "      <th>54.189.133.81</th>\n",
       "      <td>34.0</td>\n",
       "      <td>ec2-54-189-133-81.us-west-2.compute.amazonaws.com</td>\n",
       "    </tr>\n",
       "    <tr>\n",
       "      <th>97.90.16.192</th>\n",
       "      <td>33.0</td>\n",
       "      <td>97-90-16-192.dhcp.mtpk.ca.charter.com</td>\n",
       "    </tr>\n",
       "    <tr>\n",
       "      <th>61.26.65.125</th>\n",
       "      <td>33.0</td>\n",
       "      <td>61-26-65-125.rev.home.ne.jp</td>\n",
       "    </tr>\n",
       "    <tr>\n",
       "      <th>201.241.43.136</th>\n",
       "      <td>32.0</td>\n",
       "      <td>pc-136-43-241-201.cm.vtr.net</td>\n",
       "    </tr>\n",
       "    <tr>\n",
       "      <th>73.159.192.117</th>\n",
       "      <td>32.0</td>\n",
       "      <td>c-73-159-192-117.hsd1.ma.comcast.net</td>\n",
       "    </tr>\n",
       "    <tr>\n",
       "      <th>130.50.200.1</th>\n",
       "      <td>31.0</td>\n",
       "      <td>egress-west.teledyne.com</td>\n",
       "    </tr>\n",
       "    <tr>\n",
       "      <th>70.95.91.143</th>\n",
       "      <td>31.0</td>\n",
       "      <td>cpe-70-95-91-143.san.res.rr.com</td>\n",
       "    </tr>\n",
       "    <tr>\n",
       "      <th>100.35.217.143</th>\n",
       "      <td>31.0</td>\n",
       "      <td>pool-100-35-217-143.nwrknj.fios.verizon.net</td>\n",
       "    </tr>\n",
       "    <tr>\n",
       "      <th>75.80.105.107</th>\n",
       "      <td>30.0</td>\n",
       "      <td>cpe-75-80-105-107.san.res.rr.com</td>\n",
       "    </tr>\n",
       "    <tr>\n",
       "      <th>98.250.114.207</th>\n",
       "      <td>29.0</td>\n",
       "      <td>c-98-250-114-207.hsd1.mi.comcast.net</td>\n",
       "    </tr>\n",
       "    <tr>\n",
       "      <th>79.209.170.53</th>\n",
       "      <td>28.0</td>\n",
       "      <td>p4FD1AA35.dip0.t-ipconnect.de</td>\n",
       "    </tr>\n",
       "    <tr>\n",
       "      <th>65.96.237.66</th>\n",
       "      <td>27.0</td>\n",
       "      <td>c-65-96-237-66.hsd1.ma.comcast.net</td>\n",
       "    </tr>\n",
       "    <tr>\n",
       "      <th>174.21.187.144</th>\n",
       "      <td>26.0</td>\n",
       "      <td>174-21-187-144.tukw.qwest.net</td>\n",
       "    </tr>\n",
       "    <tr>\n",
       "      <th>178.24.84.37</th>\n",
       "      <td>26.0</td>\n",
       "      <td>ipb2185425.dynamic.kabel-deutschland.de</td>\n",
       "    </tr>\n",
       "    <tr>\n",
       "      <th>137.110.35.33</th>\n",
       "      <td>25.0</td>\n",
       "      <td></td>\n",
       "    </tr>\n",
       "    <tr>\n",
       "      <th>75.82.87.121</th>\n",
       "      <td>25.0</td>\n",
       "      <td>cpe-75-82-87-121.socal.res.rr.com</td>\n",
       "    </tr>\n",
       "    <tr>\n",
       "      <th>76.88.56.131</th>\n",
       "      <td>25.0</td>\n",
       "      <td>cpe-76-88-56-131.san.res.rr.com</td>\n",
       "    </tr>\n",
       "    <tr>\n",
       "      <th>71.233.76.16</th>\n",
       "      <td>25.0</td>\n",
       "      <td>c-71-233-76-16.hsd1.ma.comcast.net</td>\n",
       "    </tr>\n",
       "    <tr>\n",
       "      <th>73.89.194.141</th>\n",
       "      <td>25.0</td>\n",
       "      <td>c-73-89-194-141.hsd1.ma.comcast.net</td>\n",
       "    </tr>\n",
       "  </tbody>\n",
       "</table>\n",
       "</div>"
      ],
      "text/plain": [
       "                     0                                           nslookup\n",
       "24.218.227.219   502.0               c-24-218-227-219.hsd1.ma.comcast.net\n",
       "52.44.93.197     131.0           ec2-52-44-93-197.compute-1.amazonaws.com\n",
       "73.23.120.180    112.0                c-73-23-120-180.hsd1.fl.comcast.net\n",
       "34.231.157.157   111.0         ec2-34-231-157-157.compute-1.amazonaws.com\n",
       "34.232.127.140   106.0         ec2-34-232-127-140.compute-1.amazonaws.com\n",
       "93.218.246.5      71.0                      p5DDAF605.dip0.t-ipconnect.de\n",
       "71.232.190.220    64.0               c-71-232-190-220.hsd1.ma.comcast.net\n",
       "72.205.80.22      61.0                       ip72-205-80-22.sb.sd.cox.net\n",
       "107.193.48.19     59.0      107-193-48-19.lightspeed.sndgca.sbcglobal.net\n",
       "68.48.240.2       58.0                  c-68-48-240-2.hsd1.mi.comcast.net\n",
       "73.143.234.232    53.0               c-73-143-234-232.hsd1.ma.comcast.net\n",
       "70.191.91.13      53.0                       ip70-191-91-13.sb.sd.cox.net\n",
       "69.136.148.43     49.0                c-69-136-148-43.hsd1.mi.comcast.net\n",
       "108.218.159.111   46.0    108-218-159-111.lightspeed.irvnca.sbcglobal.net\n",
       "66.215.238.104    46.0            66-215-238-104.dhcp.rvsd.ca.charter.com\n",
       "73.143.185.57     43.0                c-73-143-185-57.hsd1.ma.comcast.net\n",
       "76.126.182.37     42.0                c-76-126-182-37.hsd1.ca.comcast.net\n",
       "75.67.148.39      41.0                 c-75-67-148-39.hsd1.ma.comcast.net\n",
       "73.234.86.250     39.0                c-73-234-86-250.hsd1.ma.comcast.net\n",
       "148.74.48.58      38.0                     ool-944a303a.dyn.optonline.net\n",
       "76.30.108.215     38.0                c-76-30-108-215.hsd1.tx.comcast.net\n",
       "54.189.133.81     34.0  ec2-54-189-133-81.us-west-2.compute.amazonaws.com\n",
       "97.90.16.192      33.0              97-90-16-192.dhcp.mtpk.ca.charter.com\n",
       "61.26.65.125      33.0                        61-26-65-125.rev.home.ne.jp\n",
       "201.241.43.136    32.0                       pc-136-43-241-201.cm.vtr.net\n",
       "73.159.192.117    32.0               c-73-159-192-117.hsd1.ma.comcast.net\n",
       "130.50.200.1      31.0                           egress-west.teledyne.com\n",
       "70.95.91.143      31.0                    cpe-70-95-91-143.san.res.rr.com\n",
       "100.35.217.143    31.0        pool-100-35-217-143.nwrknj.fios.verizon.net\n",
       "75.80.105.107     30.0                   cpe-75-80-105-107.san.res.rr.com\n",
       "98.250.114.207    29.0               c-98-250-114-207.hsd1.mi.comcast.net\n",
       "79.209.170.53     28.0                      p4FD1AA35.dip0.t-ipconnect.de\n",
       "65.96.237.66      27.0                 c-65-96-237-66.hsd1.ma.comcast.net\n",
       "174.21.187.144    26.0                      174-21-187-144.tukw.qwest.net\n",
       "178.24.84.37      26.0            ipb2185425.dynamic.kabel-deutschland.de\n",
       "137.110.35.33     25.0                                                   \n",
       "75.82.87.121      25.0                  cpe-75-82-87-121.socal.res.rr.com\n",
       "76.88.56.131      25.0                    cpe-76-88-56-131.san.res.rr.com\n",
       "71.233.76.16      25.0                 c-71-233-76-16.hsd1.ma.comcast.net\n",
       "73.89.194.141     25.0                c-73-89-194-141.hsd1.ma.comcast.net"
      ]
     },
     "execution_count": 40,
     "metadata": {},
     "output_type": "execute_result"
    }
   ],
   "source": [
    "access_count.head(40)"
   ]
  },
  {
   "cell_type": "code",
   "execution_count": 41,
   "metadata": {},
   "outputs": [
    {
     "data": {
      "text/plain": [
       "2211"
      ]
     },
     "execution_count": 41,
     "metadata": {},
     "output_type": "execute_result"
    }
   ],
   "source": [
    "len(list(ip_dict.keys()))"
   ]
  },
  {
   "cell_type": "code",
   "execution_count": 42,
   "metadata": {},
   "outputs": [
    {
     "data": {
      "text/plain": [
       "['50.105.116.149',\n",
       " '107.5.111.149',\n",
       " '66.188.172.228',\n",
       " '76.80.178.3',\n",
       " '173.63.26.215',\n",
       " '3.86.107.205 arn:aws:iam::811071659227:user/josefk 6B42681EE02A1ADE REST.PUT.OBJECT index.html \"PUT /ebd',\n",
       " '196.52.2.78',\n",
       " '128.149.248.89',\n",
       " '108.7.205.117',\n",
       " '68.36.48.51']"
      ]
     },
     "execution_count": 42,
     "metadata": {},
     "output_type": "execute_result"
    }
   ],
   "source": [
    "list(ip_dict.keys())[:10]"
   ]
  },
  {
   "cell_type": "code",
   "execution_count": 43,
   "metadata": {},
   "outputs": [
    {
     "name": "stdout",
     "output_type": "stream",
     "text": [
      "2020-04-02 9.0 \t \n",
      "2020-04-02 6.0 \t 66-188-172-228.dhcp.stcd.mn.charter.com\n",
      "2020-04-02 16.0 \t pool-108-7-205-117.bstnma.fios.verizon.net\n",
      "2020-04-02 6.0 \t c-68-36-48-51.hsd1.mi.comcast.net\n",
      "2020-04-02 10.0 \t bwhmaincampuspat5.partners.org\n",
      "2020-04-02 5.0 \t c-73-145-131-117.hsd1.mi.comcast.net\n",
      "2020-04-02 6.0 \t 162-201-0-35.lightspeed.livnmi.sbcglobal.net\n"
     ]
    }
   ],
   "source": [
    "for i in list(ip_dict.keys()):\n",
    "    if ip_dict[i][-1].date() == dt.datetime.now().date():\n",
    "        if i in list(access_count.index):\n",
    "            print(ip_dict[i][-1].date(),access_count.loc[i][0],'\\t',access_count.loc[i].nslookup)"
   ]
  },
  {
   "cell_type": "code",
   "execution_count": null,
   "metadata": {},
   "outputs": [],
   "source": []
  }
 ],
 "metadata": {
  "kernelspec": {
   "display_name": "seppo",
   "language": "python",
   "name": "seppo"
  },
  "language_info": {
   "codemirror_mode": {
    "name": "ipython",
    "version": 3
   },
   "file_extension": ".py",
   "mimetype": "text/x-python",
   "name": "python",
   "nbconvert_exporter": "python",
   "pygments_lexer": "ipython3",
   "version": "3.7.6"
  }
 },
 "nbformat": 4,
 "nbformat_minor": 4
}
