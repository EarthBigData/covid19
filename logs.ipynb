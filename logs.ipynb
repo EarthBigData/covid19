{
 "cells": [
  {
   "cell_type": "code",
   "execution_count": 119,
   "metadata": {},
   "outputs": [],
   "source": [
    "import boto3\n",
    "import os,sys\n",
    "import datetime as dt\n",
    "import glob\n",
    "import pandas as pd\n",
    "pd.set_option('display.max_rows', 1000)\n",
    "import hvplot.pandas\n",
    "import holoviews as hv\n",
    "import subprocess as sp"
   ]
  },
  {
   "cell_type": "code",
   "execution_count": 120,
   "metadata": {},
   "outputs": [],
   "source": [
    "os.makedirs('/dev/shm/logs',exist_ok=True)\n",
    "os.chdir('/dev/shm/logs')"
   ]
  },
  {
   "cell_type": "code",
   "execution_count": 121,
   "metadata": {},
   "outputs": [],
   "source": [
    "!aws s3 sync s3://earthbigdata/logs/ /dev/shm/logs --quiet"
   ]
  },
  {
   "cell_type": "code",
   "execution_count": 122,
   "metadata": {},
   "outputs": [],
   "source": [
    "def make_entry(ip_dict,date_dict,logfile):  \n",
    "    with open(logfile,\"r\") as f:\n",
    "        lines=f.readlines()\n",
    "    date = lines[0].split('[')[1].split('+')[0].strip()\n",
    "    date = dt.datetime.strptime(date,'%d/%b/%Y:%H:%M:%S')\n",
    "    ipaddr=lines[0].split(']')[1].split('-')[0].strip()\n",
    "    if not ipaddr in ip_dict:\n",
    "        ip_dict[ipaddr]=[]\n",
    "    if not date.date() in date_dict:\n",
    "        date_dict[date.date()]=0\n",
    "    ip_dict[ipaddr].append(date)\n",
    "    date_dict[date.date()]+=1\n",
    "    "
   ]
  },
  {
   "cell_type": "code",
   "execution_count": 123,
   "metadata": {},
   "outputs": [],
   "source": [
    "ip_dict={}\n",
    "date_dict={}\n",
    "\n",
    "for log in glob.glob('ebd-covid19*'):\n",
    "    make_entry(ip_dict,date_dict,log)"
   ]
  },
  {
   "cell_type": "code",
   "execution_count": 124,
   "metadata": {},
   "outputs": [],
   "source": [
    "access=pd.DataFrame.from_dict(date_dict,orient='index')"
   ]
  },
  {
   "cell_type": "code",
   "execution_count": 125,
   "metadata": {},
   "outputs": [],
   "source": [
    "access.sort_index(inplace=True,ascending=False)"
   ]
  },
  {
   "cell_type": "code",
   "execution_count": 126,
   "metadata": {},
   "outputs": [
    {
     "data": {
      "application/vnd.holoviews_exec.v0+json": "",
      "text/html": [
       "<div id='2225' style='display: table; margin: 0 auto;'>\n",
       "\n",
       "\n",
       "\n",
       "\n",
       "\n",
       "  <div class=\"bk-root\" id=\"e54299e3-9a1e-4c35-9c70-f2eca0bc0853\" data-root-id=\"2225\"></div>\n",
       "</div>\n",
       "<script type=\"application/javascript\">(function(root) {\n",
       "  function embed_document(root) {\n",
       "    \n",
       "  var docs_json = {\"10813237-e1dd-4853-b3ae-a622dee26d78\":{\"roots\":{\"references\":[{\"attributes\":{\"align\":null,\"below\":[{\"id\":\"2234\",\"type\":\"LinearAxis\"}],\"center\":[{\"id\":\"2238\",\"type\":\"Grid\"},{\"id\":\"2242\",\"type\":\"Grid\"}],\"left\":[{\"id\":\"2239\",\"type\":\"CategoricalAxis\"}],\"margin\":null,\"min_border_bottom\":10,\"min_border_left\":10,\"min_border_right\":10,\"min_border_top\":10,\"plot_height\":300,\"plot_width\":700,\"renderers\":[{\"id\":\"2261\",\"type\":\"GlyphRenderer\"}],\"sizing_mode\":\"fixed\",\"title\":{\"id\":\"2226\",\"type\":\"Title\"},\"toolbar\":{\"id\":\"2248\",\"type\":\"Toolbar\"},\"x_range\":{\"id\":\"2222\",\"type\":\"Range1d\"},\"x_scale\":{\"id\":\"2230\",\"type\":\"LinearScale\"},\"y_range\":{\"id\":\"2223\",\"type\":\"FactorRange\"},\"y_scale\":{\"id\":\"2232\",\"type\":\"CategoricalScale\"}},\"id\":\"2225\",\"subtype\":\"Figure\",\"type\":\"Plot\"},{\"attributes\":{},\"id\":\"2240\",\"type\":\"CategoricalTicker\"},{\"attributes\":{\"callback\":null,\"factors\":[\"2020-03-31\",\"2020-03-30\",\"2020-03-29\",\"2020-03-28\",\"2020-03-27\",\"2020-03-26\",\"2020-03-25\",\"2020-03-24\",\"2020-03-23\",\"2020-03-22\",\"2020-03-21\",\"2020-03-20\"],\"tags\":[[[\"index\",\"index\",null]]]},\"id\":\"2223\",\"type\":\"FactorRange\"},{\"attributes\":{\"bounds\":\"auto\",\"formatter\":{\"id\":\"2266\",\"type\":\"CategoricalTickFormatter\"},\"major_label_orientation\":\"horizontal\",\"ticker\":{\"id\":\"2240\",\"type\":\"CategoricalTicker\"}},\"id\":\"2239\",\"type\":\"CategoricalAxis\"},{\"attributes\":{\"fill_alpha\":{\"value\":0.2},\"fill_color\":{\"value\":\"#1f77b3\"},\"height\":{\"value\":0.8},\"line_alpha\":{\"value\":0.2},\"line_color\":{\"value\":\"black\"},\"right\":{\"field\":\"A_0\"},\"y\":{\"field\":\"index\"}},\"id\":\"2260\",\"type\":\"HBar\"},{\"attributes\":{},\"id\":\"2230\",\"type\":\"LinearScale\"},{\"attributes\":{\"fill_alpha\":{\"value\":0.1},\"fill_color\":{\"value\":\"#1f77b3\"},\"height\":{\"value\":0.8},\"line_alpha\":{\"value\":0.1},\"line_color\":{\"value\":\"black\"},\"right\":{\"field\":\"A_0\"},\"y\":{\"field\":\"index\"}},\"id\":\"2259\",\"type\":\"HBar\"},{\"attributes\":{\"active_drag\":\"auto\",\"active_inspect\":\"auto\",\"active_multi\":null,\"active_scroll\":\"auto\",\"active_tap\":\"auto\",\"tools\":[{\"id\":\"2224\",\"type\":\"HoverTool\"},{\"id\":\"2243\",\"type\":\"SaveTool\"},{\"id\":\"2244\",\"type\":\"PanTool\"},{\"id\":\"2245\",\"type\":\"WheelZoomTool\"},{\"id\":\"2246\",\"type\":\"BoxZoomTool\"},{\"id\":\"2247\",\"type\":\"ResetTool\"}]},\"id\":\"2248\",\"type\":\"Toolbar\"},{\"attributes\":{},\"id\":\"2243\",\"type\":\"SaveTool\"},{\"attributes\":{\"text\":\"EBD COVID 19 Access\",\"text_color\":{\"value\":\"black\"},\"text_font_size\":{\"value\":\"12pt\"}},\"id\":\"2226\",\"type\":\"Title\"},{\"attributes\":{},\"id\":\"2244\",\"type\":\"PanTool\"},{\"attributes\":{\"fill_color\":{\"value\":\"#1f77b3\"},\"height\":{\"value\":0.8},\"right\":{\"field\":\"A_0\"},\"y\":{\"field\":\"index\"}},\"id\":\"2258\",\"type\":\"HBar\"},{\"attributes\":{},\"id\":\"2245\",\"type\":\"WheelZoomTool\"},{\"attributes\":{},\"id\":\"2266\",\"type\":\"CategoricalTickFormatter\"},{\"attributes\":{\"bottom_units\":\"screen\",\"fill_alpha\":{\"value\":0.5},\"fill_color\":{\"value\":\"lightgrey\"},\"left_units\":\"screen\",\"level\":\"overlay\",\"line_alpha\":{\"value\":1.0},\"line_color\":{\"value\":\"black\"},\"line_dash\":[4,4],\"line_width\":{\"value\":2},\"render_mode\":\"css\",\"right_units\":\"screen\",\"top_units\":\"screen\"},\"id\":\"2274\",\"type\":\"BoxAnnotation\"},{\"attributes\":{\"overlay\":{\"id\":\"2274\",\"type\":\"BoxAnnotation\"}},\"id\":\"2246\",\"type\":\"BoxZoomTool\"},{\"attributes\":{\"callback\":null,\"data\":{\"A_0\":[172,481,441,361,408,563,715,721,1745,637,800,277],\"index\":[\"2020-03-31\",\"2020-03-30\",\"2020-03-29\",\"2020-03-28\",\"2020-03-27\",\"2020-03-26\",\"2020-03-25\",\"2020-03-24\",\"2020-03-23\",\"2020-03-22\",\"2020-03-21\",\"2020-03-20\"]},\"selected\":{\"id\":\"2256\",\"type\":\"Selection\"},\"selection_policy\":{\"id\":\"2275\",\"type\":\"UnionRenderers\"}},\"id\":\"2255\",\"type\":\"ColumnDataSource\"},{\"attributes\":{\"source\":{\"id\":\"2255\",\"type\":\"ColumnDataSource\"}},\"id\":\"2262\",\"type\":\"CDSView\"},{\"attributes\":{\"axis_label\":\"Access Times per day\",\"bounds\":\"auto\",\"formatter\":{\"id\":\"2264\",\"type\":\"BasicTickFormatter\"},\"major_label_orientation\":\"horizontal\",\"ticker\":{\"id\":\"2235\",\"type\":\"BasicTicker\"}},\"id\":\"2234\",\"type\":\"LinearAxis\"},{\"attributes\":{},\"id\":\"2247\",\"type\":\"ResetTool\"},{\"attributes\":{},\"id\":\"2235\",\"type\":\"BasicTicker\"},{\"attributes\":{},\"id\":\"2232\",\"type\":\"CategoricalScale\"},{\"attributes\":{\"callback\":null,\"renderers\":[{\"id\":\"2261\",\"type\":\"GlyphRenderer\"}],\"tags\":[\"hv_created\"],\"tooltips\":[[\"index\",\"@{index}\"],[\"0\",\"@{A_0}\"]]},\"id\":\"2224\",\"type\":\"HoverTool\"},{\"attributes\":{\"callback\":null,\"end\":1902.3,\"reset_end\":1902.3,\"reset_start\":0.0,\"tags\":[[[\"0\",\"0\",null]]]},\"id\":\"2222\",\"type\":\"Range1d\"},{\"attributes\":{\"dimension\":1,\"ticker\":{\"id\":\"2240\",\"type\":\"CategoricalTicker\"}},\"id\":\"2242\",\"type\":\"Grid\"},{\"attributes\":{},\"id\":\"2275\",\"type\":\"UnionRenderers\"},{\"attributes\":{\"data_source\":{\"id\":\"2255\",\"type\":\"ColumnDataSource\"},\"glyph\":{\"id\":\"2258\",\"type\":\"HBar\"},\"hover_glyph\":null,\"muted_glyph\":{\"id\":\"2260\",\"type\":\"HBar\"},\"nonselection_glyph\":{\"id\":\"2259\",\"type\":\"HBar\"},\"selection_glyph\":null,\"view\":{\"id\":\"2262\",\"type\":\"CDSView\"}},\"id\":\"2261\",\"type\":\"GlyphRenderer\"},{\"attributes\":{},\"id\":\"2256\",\"type\":\"Selection\"},{\"attributes\":{},\"id\":\"2264\",\"type\":\"BasicTickFormatter\"},{\"attributes\":{\"ticker\":{\"id\":\"2235\",\"type\":\"BasicTicker\"}},\"id\":\"2238\",\"type\":\"Grid\"}],\"root_ids\":[\"2225\"]},\"title\":\"Bokeh Application\",\"version\":\"1.4.0\"}};\n",
       "  var render_items = [{\"docid\":\"10813237-e1dd-4853-b3ae-a622dee26d78\",\"roots\":{\"2225\":\"e54299e3-9a1e-4c35-9c70-f2eca0bc0853\"}}];\n",
       "  root.Bokeh.embed.embed_items_notebook(docs_json, render_items);\n",
       "\n",
       "  }\n",
       "  if (root.Bokeh !== undefined) {\n",
       "    embed_document(root);\n",
       "  } else {\n",
       "    var attempts = 0;\n",
       "    var timer = setInterval(function(root) {\n",
       "      if (root.Bokeh !== undefined) {\n",
       "        clearInterval(timer);\n",
       "        embed_document(root);\n",
       "      } else {\n",
       "        attempts++;\n",
       "        if (attempts > 100) {\n",
       "          clearInterval(timer);\n",
       "          console.log(\"Bokeh: ERROR: Unable to run BokehJS code because BokehJS library is missing\");\n",
       "        }\n",
       "      }\n",
       "    }, 10, root)\n",
       "  }\n",
       "})(window);</script>"
      ],
      "text/plain": [
       ":Bars   [index]   (0)"
      ]
     },
     "execution_count": 126,
     "metadata": {
      "application/vnd.holoviews_exec.v0+json": {
       "id": "2225"
      }
     },
     "output_type": "execute_result"
    }
   ],
   "source": [
    "access.hvplot.barh(padding=0.1,grid=True,ylabel='Access Times per day',xlabel='',title='EBD COVID 19 Access')"
   ]
  },
  {
   "cell_type": "code",
   "execution_count": 127,
   "metadata": {},
   "outputs": [],
   "source": [
    "ip_count={}\n",
    "for i in ip_dict:\n",
    "    ip_count[i]=len(ip_dict[i])"
   ]
  },
  {
   "cell_type": "code",
   "execution_count": 128,
   "metadata": {},
   "outputs": [],
   "source": [
    "access_count=pd.DataFrame.from_dict(ip_count,orient='index')\n",
    "\n",
    "access_count=access_count[access_count>=5].dropna()\n",
    "\n",
    "access_count = access_count.sort_values(0,ascending=False)\n",
    "\n",
    "access_count['nslookup']=''\n",
    "for i in access_count.index:\n",
    "    cmd='nslookup {}'.format(i)\n",
    "    try:\n",
    "        ret= sp.check_output(cmd.split())\n",
    "        nslookup = ret.decode().split('name = ')[1].split('\\n')[0].strip('.')\n",
    "        # print(nslookup)\n",
    "        access_count.loc[i,'nslookup']=nslookup\n",
    "    except:\n",
    "        pass"
   ]
  },
  {
   "cell_type": "code",
   "execution_count": 129,
   "metadata": {},
   "outputs": [
    {
     "data": {
      "text/html": [
       "<div>\n",
       "<style scoped>\n",
       "    .dataframe tbody tr th:only-of-type {\n",
       "        vertical-align: middle;\n",
       "    }\n",
       "\n",
       "    .dataframe tbody tr th {\n",
       "        vertical-align: top;\n",
       "    }\n",
       "\n",
       "    .dataframe thead th {\n",
       "        text-align: right;\n",
       "    }\n",
       "</style>\n",
       "<table border=\"1\" class=\"dataframe\">\n",
       "  <thead>\n",
       "    <tr style=\"text-align: right;\">\n",
       "      <th></th>\n",
       "      <th>0</th>\n",
       "      <th>nslookup</th>\n",
       "    </tr>\n",
       "  </thead>\n",
       "  <tbody>\n",
       "    <tr>\n",
       "      <th>24.218.227.219</th>\n",
       "      <td>420.0</td>\n",
       "      <td>c-24-218-227-219.hsd1.ma.comcast.net</td>\n",
       "    </tr>\n",
       "    <tr>\n",
       "      <th>52.44.93.197</th>\n",
       "      <td>111.0</td>\n",
       "      <td>ec2-52-44-93-197.compute-1.amazonaws.com</td>\n",
       "    </tr>\n",
       "    <tr>\n",
       "      <th>73.23.120.180</th>\n",
       "      <td>96.0</td>\n",
       "      <td>c-73-23-120-180.hsd1.fl.comcast.net</td>\n",
       "    </tr>\n",
       "    <tr>\n",
       "      <th>34.231.157.157</th>\n",
       "      <td>91.0</td>\n",
       "      <td>ec2-34-231-157-157.compute-1.amazonaws.com</td>\n",
       "    </tr>\n",
       "    <tr>\n",
       "      <th>34.232.127.140</th>\n",
       "      <td>78.0</td>\n",
       "      <td>ec2-34-232-127-140.compute-1.amazonaws.com</td>\n",
       "    </tr>\n",
       "    <tr>\n",
       "      <th>72.205.80.22</th>\n",
       "      <td>61.0</td>\n",
       "      <td>ip72-205-80-22.sb.sd.cox.net</td>\n",
       "    </tr>\n",
       "    <tr>\n",
       "      <th>93.218.246.5</th>\n",
       "      <td>60.0</td>\n",
       "      <td>p5DDAF605.dip0.t-ipconnect.de</td>\n",
       "    </tr>\n",
       "    <tr>\n",
       "      <th>71.232.190.220</th>\n",
       "      <td>60.0</td>\n",
       "      <td>c-71-232-190-220.hsd1.ma.comcast.net</td>\n",
       "    </tr>\n",
       "    <tr>\n",
       "      <th>70.191.91.13</th>\n",
       "      <td>51.0</td>\n",
       "      <td>ip70-191-91-13.sb.sd.cox.net</td>\n",
       "    </tr>\n",
       "    <tr>\n",
       "      <th>73.143.234.232</th>\n",
       "      <td>50.0</td>\n",
       "      <td>c-73-143-234-232.hsd1.ma.comcast.net</td>\n",
       "    </tr>\n",
       "    <tr>\n",
       "      <th>69.136.148.43</th>\n",
       "      <td>46.0</td>\n",
       "      <td>c-69-136-148-43.hsd1.mi.comcast.net</td>\n",
       "    </tr>\n",
       "    <tr>\n",
       "      <th>66.215.238.104</th>\n",
       "      <td>42.0</td>\n",
       "      <td>66-215-238-104.dhcp.rvsd.ca.charter.com</td>\n",
       "    </tr>\n",
       "    <tr>\n",
       "      <th>73.143.185.57</th>\n",
       "      <td>41.0</td>\n",
       "      <td>c-73-143-185-57.hsd1.ma.comcast.net</td>\n",
       "    </tr>\n",
       "    <tr>\n",
       "      <th>75.67.148.39</th>\n",
       "      <td>41.0</td>\n",
       "      <td>c-75-67-148-39.hsd1.ma.comcast.net</td>\n",
       "    </tr>\n",
       "    <tr>\n",
       "      <th>68.48.240.2</th>\n",
       "      <td>40.0</td>\n",
       "      <td>c-68-48-240-2.hsd1.mi.comcast.net</td>\n",
       "    </tr>\n",
       "    <tr>\n",
       "      <th>107.193.48.19</th>\n",
       "      <td>40.0</td>\n",
       "      <td>107-193-48-19.lightspeed.sndgca.sbcglobal.net</td>\n",
       "    </tr>\n",
       "    <tr>\n",
       "      <th>148.74.48.58</th>\n",
       "      <td>36.0</td>\n",
       "      <td>ool-944a303a.dyn.optonline.net</td>\n",
       "    </tr>\n",
       "    <tr>\n",
       "      <th>76.30.108.215</th>\n",
       "      <td>35.0</td>\n",
       "      <td>c-76-30-108-215.hsd1.tx.comcast.net</td>\n",
       "    </tr>\n",
       "    <tr>\n",
       "      <th>54.189.133.81</th>\n",
       "      <td>34.0</td>\n",
       "      <td>ec2-54-189-133-81.us-west-2.compute.amazonaws.com</td>\n",
       "    </tr>\n",
       "    <tr>\n",
       "      <th>73.234.86.250</th>\n",
       "      <td>34.0</td>\n",
       "      <td>c-73-234-86-250.hsd1.ma.comcast.net</td>\n",
       "    </tr>\n",
       "  </tbody>\n",
       "</table>\n",
       "</div>"
      ],
      "text/plain": [
       "                    0                                           nslookup\n",
       "24.218.227.219  420.0               c-24-218-227-219.hsd1.ma.comcast.net\n",
       "52.44.93.197    111.0           ec2-52-44-93-197.compute-1.amazonaws.com\n",
       "73.23.120.180    96.0                c-73-23-120-180.hsd1.fl.comcast.net\n",
       "34.231.157.157   91.0         ec2-34-231-157-157.compute-1.amazonaws.com\n",
       "34.232.127.140   78.0         ec2-34-232-127-140.compute-1.amazonaws.com\n",
       "72.205.80.22     61.0                       ip72-205-80-22.sb.sd.cox.net\n",
       "93.218.246.5     60.0                      p5DDAF605.dip0.t-ipconnect.de\n",
       "71.232.190.220   60.0               c-71-232-190-220.hsd1.ma.comcast.net\n",
       "70.191.91.13     51.0                       ip70-191-91-13.sb.sd.cox.net\n",
       "73.143.234.232   50.0               c-73-143-234-232.hsd1.ma.comcast.net\n",
       "69.136.148.43    46.0                c-69-136-148-43.hsd1.mi.comcast.net\n",
       "66.215.238.104   42.0            66-215-238-104.dhcp.rvsd.ca.charter.com\n",
       "73.143.185.57    41.0                c-73-143-185-57.hsd1.ma.comcast.net\n",
       "75.67.148.39     41.0                 c-75-67-148-39.hsd1.ma.comcast.net\n",
       "68.48.240.2      40.0                  c-68-48-240-2.hsd1.mi.comcast.net\n",
       "107.193.48.19    40.0      107-193-48-19.lightspeed.sndgca.sbcglobal.net\n",
       "148.74.48.58     36.0                     ool-944a303a.dyn.optonline.net\n",
       "76.30.108.215    35.0                c-76-30-108-215.hsd1.tx.comcast.net\n",
       "54.189.133.81    34.0  ec2-54-189-133-81.us-west-2.compute.amazonaws.com\n",
       "73.234.86.250    34.0                c-73-234-86-250.hsd1.ma.comcast.net"
      ]
     },
     "execution_count": 129,
     "metadata": {},
     "output_type": "execute_result"
    }
   ],
   "source": [
    "access_count.head(20)"
   ]
  },
  {
   "cell_type": "code",
   "execution_count": 130,
   "metadata": {},
   "outputs": [
    {
     "data": {
      "text/plain": [
       "1933"
      ]
     },
     "execution_count": 130,
     "metadata": {},
     "output_type": "execute_result"
    }
   ],
   "source": [
    "len(list(ip_dict.keys()))"
   ]
  },
  {
   "cell_type": "code",
   "execution_count": 131,
   "metadata": {},
   "outputs": [
    {
     "data": {
      "text/plain": [
       "['195.192.194.133',\n",
       " '64.233.172.44',\n",
       " '73.23.120.180',\n",
       " '178.24.84.37',\n",
       " '66.249.83.52',\n",
       " '24.218.227.219',\n",
       " '64.233.172.46',\n",
       " '173.162.212.33',\n",
       " '73.143.185.57',\n",
       " '73.159.130.33']"
      ]
     },
     "execution_count": 131,
     "metadata": {},
     "output_type": "execute_result"
    }
   ],
   "source": [
    "list(ip_dict.keys())[:10]"
   ]
  },
  {
   "cell_type": "code",
   "execution_count": 132,
   "metadata": {},
   "outputs": [
    {
     "name": "stdout",
     "output_type": "stream",
     "text": [
      "2020-03-31 5.0 \t 23-127-164-61.lightspeed.sntcca.sbcglobal.net\n"
     ]
    }
   ],
   "source": [
    "for i in list(ip_dict.keys()):\n",
    "    if ip_dict[i][-1].date() == dt.datetime.now().date():\n",
    "        if i in list(access_count.index):\n",
    "            print(ip_dict[i][-1].date(),access_count.loc[i][0],'\\t',access_count.loc[i].nslookup)"
   ]
  },
  {
   "cell_type": "code",
   "execution_count": null,
   "metadata": {},
   "outputs": [],
   "source": []
  }
 ],
 "metadata": {
  "kernelspec": {
   "display_name": "seppo",
   "language": "python",
   "name": "seppo"
  },
  "language_info": {
   "codemirror_mode": {
    "name": "ipython",
    "version": 3
   },
   "file_extension": ".py",
   "mimetype": "text/x-python",
   "name": "python",
   "nbconvert_exporter": "python",
   "pygments_lexer": "ipython3",
   "version": "3.7.6"
  }
 },
 "nbformat": 4,
 "nbformat_minor": 4
}
