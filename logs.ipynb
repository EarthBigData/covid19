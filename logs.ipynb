{
 "cells": [
  {
   "cell_type": "code",
   "execution_count": 18,
   "metadata": {},
   "outputs": [],
   "source": [
    "import boto3\n",
    "import os,sys\n",
    "import datetime as dt\n",
    "import glob\n",
    "import pandas as pd\n",
    "pd.set_option('display.max_rows', 1000)\n",
    "import hvplot.pandas\n",
    "import holoviews as hv\n",
    "import subprocess as sp"
   ]
  },
  {
   "cell_type": "code",
   "execution_count": 19,
   "metadata": {},
   "outputs": [],
   "source": [
    "os.makedirs('/dev/shm/logs',exist_ok=True)\n",
    "os.chdir('/dev/shm/logs')"
   ]
  },
  {
   "cell_type": "code",
   "execution_count": 49,
   "metadata": {},
   "outputs": [],
   "source": [
    "!aws s3 sync s3://earthbigdata/logs/ /dev/shm/logs --quiet"
   ]
  },
  {
   "cell_type": "code",
   "execution_count": 50,
   "metadata": {},
   "outputs": [],
   "source": [
    "def make_entry(ip_dict,date_dict,logfile):  \n",
    "    with open(logfile,\"r\") as f:\n",
    "        lines=f.readlines()\n",
    "    date = lines[0].split('[')[1].split('+')[0].strip()\n",
    "    date = dt.datetime.strptime(date,'%d/%b/%Y:%H:%M:%S')\n",
    "    ipaddr=lines[0].split(']')[1].split('-')[0].strip()\n",
    "    if not ipaddr in ip_dict:\n",
    "        ip_dict[ipaddr]=[]\n",
    "    if not date.date() in date_dict:\n",
    "        date_dict[date.date()]=0\n",
    "    ip_dict[ipaddr].append(date)\n",
    "    date_dict[date.date()]+=1\n",
    "    "
   ]
  },
  {
   "cell_type": "code",
   "execution_count": 51,
   "metadata": {},
   "outputs": [],
   "source": [
    "ip_dict={}\n",
    "date_dict={}\n",
    "\n",
    "for log in glob.glob('ebd-covid19*'):\n",
    "    make_entry(ip_dict,date_dict,log)"
   ]
  },
  {
   "cell_type": "code",
   "execution_count": 52,
   "metadata": {},
   "outputs": [],
   "source": [
    "access=pd.DataFrame.from_dict(date_dict,orient='index')"
   ]
  },
  {
   "cell_type": "code",
   "execution_count": 53,
   "metadata": {},
   "outputs": [],
   "source": [
    "access.sort_index(inplace=True,ascending=False)"
   ]
  },
  {
   "cell_type": "code",
   "execution_count": 54,
   "metadata": {},
   "outputs": [
    {
     "data": {
      "application/vnd.holoviews_exec.v0+json": "",
      "text/html": [
       "<div id='1781' style='display: table; margin: 0 auto;'>\n",
       "\n",
       "\n",
       "\n",
       "\n",
       "\n",
       "  <div class=\"bk-root\" id=\"0a447f3d-f273-4358-9b83-dec4ecc595e5\" data-root-id=\"1781\"></div>\n",
       "</div>\n",
       "<script type=\"application/javascript\">(function(root) {\n",
       "  function embed_document(root) {\n",
       "    \n",
       "  var docs_json = {\"f8899dad-86ca-4c28-8c41-a87500b7f0e1\":{\"roots\":{\"references\":[{\"attributes\":{\"align\":null,\"below\":[{\"id\":\"1790\",\"type\":\"LinearAxis\"}],\"center\":[{\"id\":\"1794\",\"type\":\"Grid\"},{\"id\":\"1798\",\"type\":\"Grid\"}],\"left\":[{\"id\":\"1795\",\"type\":\"CategoricalAxis\"}],\"margin\":null,\"min_border_bottom\":10,\"min_border_left\":10,\"min_border_right\":10,\"min_border_top\":10,\"plot_height\":300,\"plot_width\":700,\"renderers\":[{\"id\":\"1817\",\"type\":\"GlyphRenderer\"}],\"sizing_mode\":\"fixed\",\"title\":{\"id\":\"1782\",\"type\":\"Title\"},\"toolbar\":{\"id\":\"1804\",\"type\":\"Toolbar\"},\"x_range\":{\"id\":\"1778\",\"type\":\"Range1d\"},\"x_scale\":{\"id\":\"1786\",\"type\":\"LinearScale\"},\"y_range\":{\"id\":\"1779\",\"type\":\"FactorRange\"},\"y_scale\":{\"id\":\"1788\",\"type\":\"CategoricalScale\"}},\"id\":\"1781\",\"subtype\":\"Figure\",\"type\":\"Plot\"},{\"attributes\":{},\"id\":\"1799\",\"type\":\"SaveTool\"},{\"attributes\":{},\"id\":\"1800\",\"type\":\"PanTool\"},{\"attributes\":{\"active_drag\":\"auto\",\"active_inspect\":\"auto\",\"active_multi\":null,\"active_scroll\":\"auto\",\"active_tap\":\"auto\",\"tools\":[{\"id\":\"1780\",\"type\":\"HoverTool\"},{\"id\":\"1799\",\"type\":\"SaveTool\"},{\"id\":\"1800\",\"type\":\"PanTool\"},{\"id\":\"1801\",\"type\":\"WheelZoomTool\"},{\"id\":\"1802\",\"type\":\"BoxZoomTool\"},{\"id\":\"1803\",\"type\":\"ResetTool\"}]},\"id\":\"1804\",\"type\":\"Toolbar\"},{\"attributes\":{\"text\":\"EBD COVID 19 Access\",\"text_color\":{\"value\":\"black\"},\"text_font_size\":{\"value\":\"12pt\"}},\"id\":\"1782\",\"type\":\"Title\"},{\"attributes\":{},\"id\":\"1801\",\"type\":\"WheelZoomTool\"},{\"attributes\":{\"fill_alpha\":{\"value\":0.1},\"fill_color\":{\"value\":\"#1f77b3\"},\"height\":{\"value\":0.8},\"line_alpha\":{\"value\":0.1},\"line_color\":{\"value\":\"black\"},\"right\":{\"field\":\"A_0\"},\"y\":{\"field\":\"index\"}},\"id\":\"1815\",\"type\":\"HBar\"},{\"attributes\":{\"fill_alpha\":{\"value\":0.2},\"fill_color\":{\"value\":\"#1f77b3\"},\"height\":{\"value\":0.8},\"line_alpha\":{\"value\":0.2},\"line_color\":{\"value\":\"black\"},\"right\":{\"field\":\"A_0\"},\"y\":{\"field\":\"index\"}},\"id\":\"1816\",\"type\":\"HBar\"},{\"attributes\":{},\"id\":\"1786\",\"type\":\"LinearScale\"},{\"attributes\":{\"callback\":null,\"renderers\":[{\"id\":\"1817\",\"type\":\"GlyphRenderer\"}],\"tags\":[\"hv_created\"],\"tooltips\":[[\"index\",\"@{index}\"],[\"0\",\"@{A_0}\"]]},\"id\":\"1780\",\"type\":\"HoverTool\"},{\"attributes\":{},\"id\":\"1819\",\"type\":\"BasicTickFormatter\"},{\"attributes\":{\"callback\":null,\"factors\":[\"2020-04-12\",\"2020-04-11\",\"2020-04-10\",\"2020-04-09\",\"2020-04-08\",\"2020-04-07\",\"2020-04-06\",\"2020-04-05\",\"2020-04-04\",\"2020-04-03\",\"2020-04-02\",\"2020-04-01\",\"2020-03-31\",\"2020-03-30\",\"2020-03-29\",\"2020-03-28\",\"2020-03-27\",\"2020-03-26\",\"2020-03-25\",\"2020-03-24\",\"2020-03-23\",\"2020-03-22\",\"2020-03-21\",\"2020-03-20\"],\"tags\":[[[\"index\",\"index\",null]]]},\"id\":\"1779\",\"type\":\"FactorRange\"},{\"attributes\":{\"bottom_units\":\"screen\",\"fill_alpha\":{\"value\":0.5},\"fill_color\":{\"value\":\"lightgrey\"},\"left_units\":\"screen\",\"level\":\"overlay\",\"line_alpha\":{\"value\":1.0},\"line_color\":{\"value\":\"black\"},\"line_dash\":[4,4],\"line_width\":{\"value\":2},\"render_mode\":\"css\",\"right_units\":\"screen\",\"top_units\":\"screen\"},\"id\":\"1832\",\"type\":\"BoxAnnotation\"},{\"attributes\":{\"dimension\":1,\"ticker\":{\"id\":\"1796\",\"type\":\"CategoricalTicker\"}},\"id\":\"1798\",\"type\":\"Grid\"},{\"attributes\":{\"source\":{\"id\":\"1811\",\"type\":\"ColumnDataSource\"}},\"id\":\"1818\",\"type\":\"CDSView\"},{\"attributes\":{},\"id\":\"1788\",\"type\":\"CategoricalScale\"},{\"attributes\":{\"axis_label\":\"Access Times per day\",\"bounds\":\"auto\",\"formatter\":{\"id\":\"1819\",\"type\":\"BasicTickFormatter\"},\"major_label_orientation\":\"horizontal\",\"ticker\":{\"id\":\"1791\",\"type\":\"BasicTicker\"}},\"id\":\"1790\",\"type\":\"LinearAxis\"},{\"attributes\":{\"callback\":null,\"data\":{\"A_0\":[148,219,255,277,292,257,317,350,288,437,603,582,663,481,441,361,408,563,715,721,1745,637,800,277],\"index\":[\"2020-04-12\",\"2020-04-11\",\"2020-04-10\",\"2020-04-09\",\"2020-04-08\",\"2020-04-07\",\"2020-04-06\",\"2020-04-05\",\"2020-04-04\",\"2020-04-03\",\"2020-04-02\",\"2020-04-01\",\"2020-03-31\",\"2020-03-30\",\"2020-03-29\",\"2020-03-28\",\"2020-03-27\",\"2020-03-26\",\"2020-03-25\",\"2020-03-24\",\"2020-03-23\",\"2020-03-22\",\"2020-03-21\",\"2020-03-20\"]},\"selected\":{\"id\":\"1812\",\"type\":\"Selection\"},\"selection_policy\":{\"id\":\"1831\",\"type\":\"UnionRenderers\"}},\"id\":\"1811\",\"type\":\"ColumnDataSource\"},{\"attributes\":{},\"id\":\"1791\",\"type\":\"BasicTicker\"},{\"attributes\":{\"ticker\":{\"id\":\"1791\",\"type\":\"BasicTicker\"}},\"id\":\"1794\",\"type\":\"Grid\"},{\"attributes\":{},\"id\":\"1812\",\"type\":\"Selection\"},{\"attributes\":{},\"id\":\"1796\",\"type\":\"CategoricalTicker\"},{\"attributes\":{\"bounds\":\"auto\",\"formatter\":{\"id\":\"1821\",\"type\":\"CategoricalTickFormatter\"},\"major_label_orientation\":\"horizontal\",\"ticker\":{\"id\":\"1796\",\"type\":\"CategoricalTicker\"}},\"id\":\"1795\",\"type\":\"CategoricalAxis\"},{\"attributes\":{\"fill_color\":{\"value\":\"#1f77b3\"},\"height\":{\"value\":0.8},\"right\":{\"field\":\"A_0\"},\"y\":{\"field\":\"index\"}},\"id\":\"1814\",\"type\":\"HBar\"},{\"attributes\":{},\"id\":\"1821\",\"type\":\"CategoricalTickFormatter\"},{\"attributes\":{},\"id\":\"1831\",\"type\":\"UnionRenderers\"},{\"attributes\":{\"callback\":null,\"end\":1904.7,\"reset_end\":1904.7,\"reset_start\":-11.700000000000017,\"start\":-11.700000000000017,\"tags\":[[[\"0\",\"0\",null]]]},\"id\":\"1778\",\"type\":\"Range1d\"},{\"attributes\":{\"overlay\":{\"id\":\"1832\",\"type\":\"BoxAnnotation\"}},\"id\":\"1802\",\"type\":\"BoxZoomTool\"},{\"attributes\":{},\"id\":\"1803\",\"type\":\"ResetTool\"},{\"attributes\":{\"data_source\":{\"id\":\"1811\",\"type\":\"ColumnDataSource\"},\"glyph\":{\"id\":\"1814\",\"type\":\"HBar\"},\"hover_glyph\":null,\"muted_glyph\":{\"id\":\"1816\",\"type\":\"HBar\"},\"nonselection_glyph\":{\"id\":\"1815\",\"type\":\"HBar\"},\"selection_glyph\":null,\"view\":{\"id\":\"1818\",\"type\":\"CDSView\"}},\"id\":\"1817\",\"type\":\"GlyphRenderer\"}],\"root_ids\":[\"1781\"]},\"title\":\"Bokeh Application\",\"version\":\"1.4.0\"}};\n",
       "  var render_items = [{\"docid\":\"f8899dad-86ca-4c28-8c41-a87500b7f0e1\",\"roots\":{\"1781\":\"0a447f3d-f273-4358-9b83-dec4ecc595e5\"}}];\n",
       "  root.Bokeh.embed.embed_items_notebook(docs_json, render_items);\n",
       "\n",
       "  }\n",
       "  if (root.Bokeh !== undefined) {\n",
       "    embed_document(root);\n",
       "  } else {\n",
       "    var attempts = 0;\n",
       "    var timer = setInterval(function(root) {\n",
       "      if (root.Bokeh !== undefined) {\n",
       "        clearInterval(timer);\n",
       "        embed_document(root);\n",
       "      } else {\n",
       "        attempts++;\n",
       "        if (attempts > 100) {\n",
       "          clearInterval(timer);\n",
       "          console.log(\"Bokeh: ERROR: Unable to run BokehJS code because BokehJS library is missing\");\n",
       "        }\n",
       "      }\n",
       "    }, 10, root)\n",
       "  }\n",
       "})(window);</script>"
      ],
      "text/plain": [
       ":Bars   [index]   (0)"
      ]
     },
     "execution_count": 54,
     "metadata": {
      "application/vnd.holoviews_exec.v0+json": {
       "id": "1781"
      }
     },
     "output_type": "execute_result"
    }
   ],
   "source": [
    "access.hvplot.barh(padding=0.1,grid=True,ylabel='Access Times per day',xlabel='',title='EBD COVID 19 Access')"
   ]
  },
  {
   "cell_type": "code",
   "execution_count": 9,
   "metadata": {},
   "outputs": [
    {
     "data": {
      "text/html": [
       "<div>\n",
       "<style scoped>\n",
       "    .dataframe tbody tr th:only-of-type {\n",
       "        vertical-align: middle;\n",
       "    }\n",
       "\n",
       "    .dataframe tbody tr th {\n",
       "        vertical-align: top;\n",
       "    }\n",
       "\n",
       "    .dataframe thead th {\n",
       "        text-align: right;\n",
       "    }\n",
       "</style>\n",
       "<table border=\"1\" class=\"dataframe\">\n",
       "  <thead>\n",
       "    <tr style=\"text-align: right;\">\n",
       "      <th></th>\n",
       "      <th>0</th>\n",
       "    </tr>\n",
       "  </thead>\n",
       "  <tbody>\n",
       "    <tr>\n",
       "      <th>2020-04-09</th>\n",
       "      <td>109</td>\n",
       "    </tr>\n",
       "    <tr>\n",
       "      <th>2020-04-08</th>\n",
       "      <td>292</td>\n",
       "    </tr>\n",
       "    <tr>\n",
       "      <th>2020-04-07</th>\n",
       "      <td>257</td>\n",
       "    </tr>\n",
       "    <tr>\n",
       "      <th>2020-04-06</th>\n",
       "      <td>317</td>\n",
       "    </tr>\n",
       "    <tr>\n",
       "      <th>2020-04-05</th>\n",
       "      <td>350</td>\n",
       "    </tr>\n",
       "  </tbody>\n",
       "</table>\n",
       "</div>"
      ],
      "text/plain": [
       "              0\n",
       "2020-04-09  109\n",
       "2020-04-08  292\n",
       "2020-04-07  257\n",
       "2020-04-06  317\n",
       "2020-04-05  350"
      ]
     },
     "execution_count": 9,
     "metadata": {},
     "output_type": "execute_result"
    }
   ],
   "source": [
    "access.head()"
   ]
  },
  {
   "cell_type": "code",
   "execution_count": null,
   "metadata": {},
   "outputs": [],
   "source": [
    "ip_count={}\n",
    "for i in ip_dict:\n",
    "    ip_count[i]=len(ip_dict[i])"
   ]
  },
  {
   "cell_type": "code",
   "execution_count": null,
   "metadata": {},
   "outputs": [],
   "source": [
    "access_count=pd.DataFrame.from_dict(ip_count,orient='index')\n",
    "\n",
    "access_count=access_count[access_count>=5].dropna()\n",
    "\n",
    "access_count = access_count.sort_values(0,ascending=False)\n",
    "\n",
    "access_count['nslookup']=''\n",
    "for i in access_count.index:\n",
    "    cmd='nslookup {}'.format(i)\n",
    "    try:\n",
    "        ret= sp.check_output(cmd.split())\n",
    "        nslookup = ret.decode().split('name = ')[1].split('\\n')[0].strip('.')\n",
    "        # print(nslookup)\n",
    "        access_count.loc[i,'nslookup']=nslookup\n",
    "    except:\n",
    "        pass"
   ]
  },
  {
   "cell_type": "code",
   "execution_count": null,
   "metadata": {},
   "outputs": [],
   "source": [
    "access_count.head(40)"
   ]
  },
  {
   "cell_type": "code",
   "execution_count": null,
   "metadata": {},
   "outputs": [],
   "source": [
    "len(list(ip_dict.keys()))"
   ]
  },
  {
   "cell_type": "code",
   "execution_count": null,
   "metadata": {},
   "outputs": [],
   "source": [
    "list(ip_dict.keys())[:10]"
   ]
  },
  {
   "cell_type": "code",
   "execution_count": null,
   "metadata": {},
   "outputs": [],
   "source": [
    "for i in list(ip_dict.keys()):\n",
    "    if ip_dict[i][-1].date() == dt.datetime.now().date():\n",
    "        if i in list(access_count.index):\n",
    "            print(ip_dict[i][-1].date(),access_count.loc[i][0],'\\t',access_count.loc[i].nslookup)"
   ]
  },
  {
   "cell_type": "code",
   "execution_count": null,
   "metadata": {},
   "outputs": [],
   "source": [
    "access_list=[]\n",
    "for i in ip_dict:\n",
    "    last_access=ip_dict[i][-1].date()\n",
    "    if i in list(access_count.index):\n",
    "        a = int(access_count.loc[i][0])\n",
    "        who = access_count.loc[i].nslookup\n",
    "        access_list.append((last_access,a,i,who))\n",
    "access_list.sort(reverse=True)\n",
    "for i in access_list:\n",
    "    print('{} {:5d}  {:17s} {}'.format(*i))"
   ]
  },
  {
   "cell_type": "code",
   "execution_count": null,
   "metadata": {},
   "outputs": [],
   "source": []
  }
 ],
 "metadata": {
  "kernelspec": {
   "display_name": "seppo",
   "language": "python",
   "name": "seppo"
  },
  "language_info": {
   "codemirror_mode": {
    "name": "ipython",
    "version": 3
   },
   "file_extension": ".py",
   "mimetype": "text/x-python",
   "name": "python",
   "nbconvert_exporter": "python",
   "pygments_lexer": "ipython3",
   "version": "3.7.6"
  }
 },
 "nbformat": 4,
 "nbformat_minor": 4
}
