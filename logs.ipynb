{
 "cells": [
  {
   "cell_type": "code",
   "execution_count": 267,
   "metadata": {},
   "outputs": [],
   "source": [
    "import boto3\n",
    "import os,sys\n",
    "import datetime as dt\n",
    "import glob\n",
    "import pandas as pd\n",
    "pd.set_option('display.max_rows', 1000)\n",
    "import hvplot.pandas\n",
    "import holoviews as hv\n",
    "import subprocess as sp"
   ]
  },
  {
   "cell_type": "code",
   "execution_count": 268,
   "metadata": {},
   "outputs": [],
   "source": [
    "!mkdir -p /dev/shm/logs\n",
    "!cd /dev/shm/logs"
   ]
  },
  {
   "cell_type": "code",
   "execution_count": 269,
   "metadata": {},
   "outputs": [],
   "source": [
    "!aws s3 sync s3://earthbigdata/logs/ . --quiet"
   ]
  },
  {
   "cell_type": "code",
   "execution_count": 270,
   "metadata": {},
   "outputs": [],
   "source": [
    "def make_entry(ip_dict,date_dict,logfile):  \n",
    "    with open(logfile,\"r\") as f:\n",
    "        lines=f.readlines()\n",
    "    date = lines[0].split('[')[1].split('+')[0].strip()\n",
    "    date = dt.datetime.strptime(date,'%d/%b/%Y:%H:%M:%S')\n",
    "    ipaddr=lines[0].split(']')[1].split('-')[0].strip()\n",
    "    if not ipaddr in ip_dict:\n",
    "        ip_dict[ipaddr]=[]\n",
    "    if not date.date() in date_dict:\n",
    "        date_dict[date.date()]=0\n",
    "    ip_dict[ipaddr].append(date)\n",
    "    date_dict[date.date()]+=1\n",
    "    "
   ]
  },
  {
   "cell_type": "code",
   "execution_count": 271,
   "metadata": {},
   "outputs": [],
   "source": [
    "ip_dict={}\n",
    "date_dict={}\n",
    "\n",
    "for log in glob.glob('ebd-covid19*'):\n",
    "    make_entry(ip_dict,date_dict,log)"
   ]
  },
  {
   "cell_type": "code",
   "execution_count": 272,
   "metadata": {},
   "outputs": [],
   "source": [
    "access=pd.DataFrame.from_dict(date_dict,orient='index')"
   ]
  },
  {
   "cell_type": "code",
   "execution_count": 273,
   "metadata": {},
   "outputs": [
    {
     "data": {
      "application/vnd.holoviews_exec.v0+json": "",
      "text/html": [
       "<div id='1860' style='display: table; margin: 0 auto;'>\n",
       "\n",
       "\n",
       "\n",
       "\n",
       "\n",
       "  <div class=\"bk-root\" id=\"3196d661-13ff-49fb-aeb0-e3a6cfca41a4\" data-root-id=\"1860\"></div>\n",
       "</div>\n",
       "<script type=\"application/javascript\">(function(root) {\n",
       "  function embed_document(root) {\n",
       "    \n",
       "  var docs_json = {\"e6f2eaa6-b47f-4f51-a9f3-e0b48ce1c82c\":{\"roots\":{\"references\":[{\"attributes\":{\"align\":null,\"below\":[{\"id\":\"1869\",\"type\":\"LinearAxis\"}],\"center\":[{\"id\":\"1873\",\"type\":\"Grid\"},{\"id\":\"1877\",\"type\":\"Grid\"}],\"left\":[{\"id\":\"1874\",\"type\":\"CategoricalAxis\"}],\"margin\":null,\"min_border_bottom\":10,\"min_border_left\":10,\"min_border_right\":10,\"min_border_top\":10,\"plot_height\":300,\"plot_width\":700,\"renderers\":[{\"id\":\"1896\",\"type\":\"GlyphRenderer\"}],\"sizing_mode\":\"fixed\",\"title\":{\"id\":\"1861\",\"type\":\"Title\"},\"toolbar\":{\"id\":\"1883\",\"type\":\"Toolbar\"},\"x_range\":{\"id\":\"1857\",\"type\":\"Range1d\"},\"x_scale\":{\"id\":\"1865\",\"type\":\"LinearScale\"},\"y_range\":{\"id\":\"1858\",\"type\":\"FactorRange\"},\"y_scale\":{\"id\":\"1867\",\"type\":\"CategoricalScale\"}},\"id\":\"1860\",\"subtype\":\"Figure\",\"type\":\"Plot\"},{\"attributes\":{},\"id\":\"1870\",\"type\":\"BasicTicker\"},{\"attributes\":{},\"id\":\"1891\",\"type\":\"Selection\"},{\"attributes\":{\"text\":\"EBD COVID 19 Access\",\"text_color\":{\"value\":\"black\"},\"text_font_size\":{\"value\":\"12pt\"}},\"id\":\"1861\",\"type\":\"Title\"},{\"attributes\":{},\"id\":\"1865\",\"type\":\"LinearScale\"},{\"attributes\":{\"fill_alpha\":{\"value\":0.1},\"fill_color\":{\"value\":\"#1f77b3\"},\"height\":{\"value\":0.8},\"line_alpha\":{\"value\":0.1},\"line_color\":{\"value\":\"black\"},\"right\":{\"field\":\"A_0\"},\"y\":{\"field\":\"index\"}},\"id\":\"1894\",\"type\":\"HBar\"},{\"attributes\":{\"callback\":null,\"factors\":[\"2020-03-30\",\"2020-03-29\",\"2020-03-28\",\"2020-03-27\",\"2020-03-26\",\"2020-03-25\",\"2020-03-24\",\"2020-03-23\",\"2020-03-22\",\"2020-03-21\",\"2020-03-20\"],\"tags\":[[[\"index\",\"index\",null]]]},\"id\":\"1858\",\"type\":\"FactorRange\"},{\"attributes\":{},\"id\":\"1875\",\"type\":\"CategoricalTicker\"},{\"attributes\":{\"dimension\":1,\"ticker\":{\"id\":\"1875\",\"type\":\"CategoricalTicker\"}},\"id\":\"1877\",\"type\":\"Grid\"},{\"attributes\":{},\"id\":\"1878\",\"type\":\"SaveTool\"},{\"attributes\":{\"bounds\":\"auto\",\"formatter\":{\"id\":\"1901\",\"type\":\"CategoricalTickFormatter\"},\"major_label_orientation\":\"horizontal\",\"ticker\":{\"id\":\"1875\",\"type\":\"CategoricalTicker\"}},\"id\":\"1874\",\"type\":\"CategoricalAxis\"},{\"attributes\":{},\"id\":\"1899\",\"type\":\"BasicTickFormatter\"},{\"attributes\":{\"axis_label\":\"Access Times per day\",\"bounds\":\"auto\",\"formatter\":{\"id\":\"1899\",\"type\":\"BasicTickFormatter\"},\"major_label_orientation\":\"horizontal\",\"ticker\":{\"id\":\"1870\",\"type\":\"BasicTicker\"}},\"id\":\"1869\",\"type\":\"LinearAxis\"},{\"attributes\":{\"ticker\":{\"id\":\"1870\",\"type\":\"BasicTicker\"}},\"id\":\"1873\",\"type\":\"Grid\"},{\"attributes\":{\"source\":{\"id\":\"1890\",\"type\":\"ColumnDataSource\"}},\"id\":\"1897\",\"type\":\"CDSView\"},{\"attributes\":{},\"id\":\"1867\",\"type\":\"CategoricalScale\"},{\"attributes\":{},\"id\":\"1911\",\"type\":\"UnionRenderers\"},{\"attributes\":{\"callback\":null,\"data\":{\"A_0\":[29,441,361,408,563,715,721,1745,637,800,277],\"index\":[\"2020-03-30\",\"2020-03-29\",\"2020-03-28\",\"2020-03-27\",\"2020-03-26\",\"2020-03-25\",\"2020-03-24\",\"2020-03-23\",\"2020-03-22\",\"2020-03-21\",\"2020-03-20\"]},\"selected\":{\"id\":\"1891\",\"type\":\"Selection\"},\"selection_policy\":{\"id\":\"1911\",\"type\":\"UnionRenderers\"}},\"id\":\"1890\",\"type\":\"ColumnDataSource\"},{\"attributes\":{\"active_drag\":\"auto\",\"active_inspect\":\"auto\",\"active_multi\":null,\"active_scroll\":\"auto\",\"active_tap\":\"auto\",\"tools\":[{\"id\":\"1859\",\"type\":\"HoverTool\"},{\"id\":\"1878\",\"type\":\"SaveTool\"},{\"id\":\"1879\",\"type\":\"PanTool\"},{\"id\":\"1880\",\"type\":\"WheelZoomTool\"},{\"id\":\"1881\",\"type\":\"BoxZoomTool\"},{\"id\":\"1882\",\"type\":\"ResetTool\"}]},\"id\":\"1883\",\"type\":\"Toolbar\"},{\"attributes\":{\"bottom_units\":\"screen\",\"fill_alpha\":{\"value\":0.5},\"fill_color\":{\"value\":\"lightgrey\"},\"left_units\":\"screen\",\"level\":\"overlay\",\"line_alpha\":{\"value\":1.0},\"line_color\":{\"value\":\"black\"},\"line_dash\":[4,4],\"line_width\":{\"value\":2},\"render_mode\":\"css\",\"right_units\":\"screen\",\"top_units\":\"screen\"},\"id\":\"1909\",\"type\":\"BoxAnnotation\"},{\"attributes\":{},\"id\":\"1879\",\"type\":\"PanTool\"},{\"attributes\":{\"fill_alpha\":{\"value\":0.2},\"fill_color\":{\"value\":\"#1f77b3\"},\"height\":{\"value\":0.8},\"line_alpha\":{\"value\":0.2},\"line_color\":{\"value\":\"black\"},\"right\":{\"field\":\"A_0\"},\"y\":{\"field\":\"index\"}},\"id\":\"1895\",\"type\":\"HBar\"},{\"attributes\":{\"fill_color\":{\"value\":\"#1f77b3\"},\"height\":{\"value\":0.8},\"right\":{\"field\":\"A_0\"},\"y\":{\"field\":\"index\"}},\"id\":\"1893\",\"type\":\"HBar\"},{\"attributes\":{},\"id\":\"1880\",\"type\":\"WheelZoomTool\"},{\"attributes\":{\"callback\":null,\"end\":1916.6,\"reset_end\":1916.6,\"reset_start\":-142.60000000000002,\"start\":-142.60000000000002,\"tags\":[[[\"0\",\"0\",null]]]},\"id\":\"1857\",\"type\":\"Range1d\"},{\"attributes\":{},\"id\":\"1882\",\"type\":\"ResetTool\"},{\"attributes\":{\"callback\":null,\"renderers\":[{\"id\":\"1896\",\"type\":\"GlyphRenderer\"}],\"tags\":[\"hv_created\"],\"tooltips\":[[\"index\",\"@{index}\"],[\"0\",\"@{A_0}\"]]},\"id\":\"1859\",\"type\":\"HoverTool\"},{\"attributes\":{\"data_source\":{\"id\":\"1890\",\"type\":\"ColumnDataSource\"},\"glyph\":{\"id\":\"1893\",\"type\":\"HBar\"},\"hover_glyph\":null,\"muted_glyph\":{\"id\":\"1895\",\"type\":\"HBar\"},\"nonselection_glyph\":{\"id\":\"1894\",\"type\":\"HBar\"},\"selection_glyph\":null,\"view\":{\"id\":\"1897\",\"type\":\"CDSView\"}},\"id\":\"1896\",\"type\":\"GlyphRenderer\"},{\"attributes\":{},\"id\":\"1901\",\"type\":\"CategoricalTickFormatter\"},{\"attributes\":{\"overlay\":{\"id\":\"1909\",\"type\":\"BoxAnnotation\"}},\"id\":\"1881\",\"type\":\"BoxZoomTool\"}],\"root_ids\":[\"1860\"]},\"title\":\"Bokeh Application\",\"version\":\"1.4.0\"}};\n",
       "  var render_items = [{\"docid\":\"e6f2eaa6-b47f-4f51-a9f3-e0b48ce1c82c\",\"roots\":{\"1860\":\"3196d661-13ff-49fb-aeb0-e3a6cfca41a4\"}}];\n",
       "  root.Bokeh.embed.embed_items_notebook(docs_json, render_items);\n",
       "\n",
       "  }\n",
       "  if (root.Bokeh !== undefined) {\n",
       "    embed_document(root);\n",
       "  } else {\n",
       "    var attempts = 0;\n",
       "    var timer = setInterval(function(root) {\n",
       "      if (root.Bokeh !== undefined) {\n",
       "        clearInterval(timer);\n",
       "        embed_document(root);\n",
       "      } else {\n",
       "        attempts++;\n",
       "        if (attempts > 100) {\n",
       "          clearInterval(timer);\n",
       "          console.log(\"Bokeh: ERROR: Unable to run BokehJS code because BokehJS library is missing\");\n",
       "        }\n",
       "      }\n",
       "    }, 10, root)\n",
       "  }\n",
       "})(window);</script>"
      ],
      "text/plain": [
       ":Bars   [index]   (0)"
      ]
     },
     "execution_count": 273,
     "metadata": {
      "application/vnd.holoviews_exec.v0+json": {
       "id": "1860"
      }
     },
     "output_type": "execute_result"
    }
   ],
   "source": [
    "access.hvplot.barh(padding=0.1,grid=True,ylabel='Access Times per day',xlabel='',title='EBD COVID 19 Access')"
   ]
  },
  {
   "cell_type": "code",
   "execution_count": 274,
   "metadata": {},
   "outputs": [],
   "source": [
    "ip_count={}\n",
    "for i in ip_dict:\n",
    "    ip_count[i]=len(ip_dict[i])"
   ]
  },
  {
   "cell_type": "code",
   "execution_count": 275,
   "metadata": {},
   "outputs": [],
   "source": [
    "access_count=pd.DataFrame.from_dict(ip_count,orient='index')\n",
    "\n",
    "access_count=access_count[access_count>=5].dropna()\n",
    "\n",
    "access_count = access_count.sort_values(0,ascending=False)\n",
    "\n",
    "access_count['nslookup']=''\n",
    "for i in access_count.index:\n",
    "    cmd='nslookup {}'.format(i)\n",
    "    try:\n",
    "        ret= sp.check_output(cmd.split())\n",
    "        nslookup = ret.decode().split('name = ')[1].split('\\n')[0].strip('.')\n",
    "        # print(nslookup)\n",
    "        access_count.loc[i,'nslookup']=nslookup\n",
    "    except:\n",
    "        pass"
   ]
  },
  {
   "cell_type": "code",
   "execution_count": 276,
   "metadata": {},
   "outputs": [
    {
     "data": {
      "text/html": [
       "<div>\n",
       "<style scoped>\n",
       "    .dataframe tbody tr th:only-of-type {\n",
       "        vertical-align: middle;\n",
       "    }\n",
       "\n",
       "    .dataframe tbody tr th {\n",
       "        vertical-align: top;\n",
       "    }\n",
       "\n",
       "    .dataframe thead th {\n",
       "        text-align: right;\n",
       "    }\n",
       "</style>\n",
       "<table border=\"1\" class=\"dataframe\">\n",
       "  <thead>\n",
       "    <tr style=\"text-align: right;\">\n",
       "      <th></th>\n",
       "      <th>0</th>\n",
       "      <th>nslookup</th>\n",
       "    </tr>\n",
       "  </thead>\n",
       "  <tbody>\n",
       "    <tr>\n",
       "      <th>24.218.227.219</th>\n",
       "      <td>359.0</td>\n",
       "      <td>c-24-218-227-219.hsd1.ma.comcast.net</td>\n",
       "    </tr>\n",
       "    <tr>\n",
       "      <th>52.44.93.197</th>\n",
       "      <td>81.0</td>\n",
       "      <td>ec2-52-44-93-197.compute-1.amazonaws.com</td>\n",
       "    </tr>\n",
       "    <tr>\n",
       "      <th>34.231.157.157</th>\n",
       "      <td>77.0</td>\n",
       "      <td>ec2-34-231-157-157.compute-1.amazonaws.com</td>\n",
       "    </tr>\n",
       "    <tr>\n",
       "      <th>73.23.120.180</th>\n",
       "      <td>67.0</td>\n",
       "      <td>c-73-23-120-180.hsd1.fl.comcast.net</td>\n",
       "    </tr>\n",
       "    <tr>\n",
       "      <th>34.232.127.140</th>\n",
       "      <td>63.0</td>\n",
       "      <td>ec2-34-232-127-140.compute-1.amazonaws.com</td>\n",
       "    </tr>\n",
       "    <tr>\n",
       "      <th>71.232.190.220</th>\n",
       "      <td>58.0</td>\n",
       "      <td>c-71-232-190-220.hsd1.ma.comcast.net</td>\n",
       "    </tr>\n",
       "    <tr>\n",
       "      <th>72.205.80.22</th>\n",
       "      <td>56.0</td>\n",
       "      <td>ip72-205-80-22.sb.sd.cox.net</td>\n",
       "    </tr>\n",
       "    <tr>\n",
       "      <th>73.143.234.232</th>\n",
       "      <td>48.0</td>\n",
       "      <td>c-73-143-234-232.hsd1.ma.comcast.net</td>\n",
       "    </tr>\n",
       "    <tr>\n",
       "      <th>93.218.246.5</th>\n",
       "      <td>47.0</td>\n",
       "      <td>p5DDAF605.dip0.t-ipconnect.de</td>\n",
       "    </tr>\n",
       "    <tr>\n",
       "      <th>70.191.91.13</th>\n",
       "      <td>45.0</td>\n",
       "      <td>ip70-191-91-13.sb.sd.cox.net</td>\n",
       "    </tr>\n",
       "    <tr>\n",
       "      <th>69.136.148.43</th>\n",
       "      <td>44.0</td>\n",
       "      <td>c-69-136-148-43.hsd1.mi.comcast.net</td>\n",
       "    </tr>\n",
       "    <tr>\n",
       "      <th>75.67.148.39</th>\n",
       "      <td>41.0</td>\n",
       "      <td>c-75-67-148-39.hsd1.ma.comcast.net</td>\n",
       "    </tr>\n",
       "    <tr>\n",
       "      <th>66.215.238.104</th>\n",
       "      <td>38.0</td>\n",
       "      <td>66-215-238-104.dhcp.rvsd.ca.charter.com</td>\n",
       "    </tr>\n",
       "    <tr>\n",
       "      <th>73.143.185.57</th>\n",
       "      <td>37.0</td>\n",
       "      <td>c-73-143-185-57.hsd1.ma.comcast.net</td>\n",
       "    </tr>\n",
       "    <tr>\n",
       "      <th>68.48.240.2</th>\n",
       "      <td>36.0</td>\n",
       "      <td>c-68-48-240-2.hsd1.mi.comcast.net</td>\n",
       "    </tr>\n",
       "    <tr>\n",
       "      <th>54.189.133.81</th>\n",
       "      <td>34.0</td>\n",
       "      <td>ec2-54-189-133-81.us-west-2.compute.amazonaws.com</td>\n",
       "    </tr>\n",
       "    <tr>\n",
       "      <th>76.30.108.215</th>\n",
       "      <td>30.0</td>\n",
       "      <td>c-76-30-108-215.hsd1.tx.comcast.net</td>\n",
       "    </tr>\n",
       "    <tr>\n",
       "      <th>75.80.105.107</th>\n",
       "      <td>30.0</td>\n",
       "      <td>cpe-75-80-105-107.san.res.rr.com</td>\n",
       "    </tr>\n",
       "    <tr>\n",
       "      <th>148.74.48.58</th>\n",
       "      <td>30.0</td>\n",
       "      <td>ool-944a303a.dyn.optonline.net</td>\n",
       "    </tr>\n",
       "    <tr>\n",
       "      <th>107.193.48.19</th>\n",
       "      <td>29.0</td>\n",
       "      <td>107-193-48-19.lightspeed.sndgca.sbcglobal.net</td>\n",
       "    </tr>\n",
       "  </tbody>\n",
       "</table>\n",
       "</div>"
      ],
      "text/plain": [
       "                    0                                           nslookup\n",
       "24.218.227.219  359.0               c-24-218-227-219.hsd1.ma.comcast.net\n",
       "52.44.93.197     81.0           ec2-52-44-93-197.compute-1.amazonaws.com\n",
       "34.231.157.157   77.0         ec2-34-231-157-157.compute-1.amazonaws.com\n",
       "73.23.120.180    67.0                c-73-23-120-180.hsd1.fl.comcast.net\n",
       "34.232.127.140   63.0         ec2-34-232-127-140.compute-1.amazonaws.com\n",
       "71.232.190.220   58.0               c-71-232-190-220.hsd1.ma.comcast.net\n",
       "72.205.80.22     56.0                       ip72-205-80-22.sb.sd.cox.net\n",
       "73.143.234.232   48.0               c-73-143-234-232.hsd1.ma.comcast.net\n",
       "93.218.246.5     47.0                      p5DDAF605.dip0.t-ipconnect.de\n",
       "70.191.91.13     45.0                       ip70-191-91-13.sb.sd.cox.net\n",
       "69.136.148.43    44.0                c-69-136-148-43.hsd1.mi.comcast.net\n",
       "75.67.148.39     41.0                 c-75-67-148-39.hsd1.ma.comcast.net\n",
       "66.215.238.104   38.0            66-215-238-104.dhcp.rvsd.ca.charter.com\n",
       "73.143.185.57    37.0                c-73-143-185-57.hsd1.ma.comcast.net\n",
       "68.48.240.2      36.0                  c-68-48-240-2.hsd1.mi.comcast.net\n",
       "54.189.133.81    34.0  ec2-54-189-133-81.us-west-2.compute.amazonaws.com\n",
       "76.30.108.215    30.0                c-76-30-108-215.hsd1.tx.comcast.net\n",
       "75.80.105.107    30.0                   cpe-75-80-105-107.san.res.rr.com\n",
       "148.74.48.58     30.0                     ool-944a303a.dyn.optonline.net\n",
       "107.193.48.19    29.0      107-193-48-19.lightspeed.sndgca.sbcglobal.net"
      ]
     },
     "execution_count": 276,
     "metadata": {},
     "output_type": "execute_result"
    }
   ],
   "source": [
    "access_count.head(20)"
   ]
  }
 ],
 "metadata": {
  "kernelspec": {
   "display_name": "seppo",
   "language": "python",
   "name": "seppo"
  },
  "language_info": {
   "codemirror_mode": {
    "name": "ipython",
    "version": 3
   },
   "file_extension": ".py",
   "mimetype": "text/x-python",
   "name": "python",
   "nbconvert_exporter": "python",
   "pygments_lexer": "ipython3",
   "version": "3.7.6"
  }
 },
 "nbformat": 4,
 "nbformat_minor": 4
}
