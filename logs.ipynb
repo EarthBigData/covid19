{
 "cells": [
  {
   "cell_type": "code",
   "execution_count": 267,
   "metadata": {},
   "outputs": [],
   "source": [
    "import boto3\n",
    "import os,sys\n",
    "import datetime as dt\n",
    "import glob\n",
    "import pandas as pd\n",
    "pd.set_option('display.max_rows', 1000)\n",
    "import hvplot.pandas\n",
    "import holoviews as hv\n",
    "import subprocess as sp"
   ]
  },
  {
   "cell_type": "code",
   "execution_count": 268,
   "metadata": {},
   "outputs": [],
   "source": [
    "!mkdir -p /dev/shm/logs\n",
    "!cd /dev/shm/logs"
   ]
  },
  {
   "cell_type": "code",
   "execution_count": 269,
   "metadata": {},
   "outputs": [],
   "source": [
    "!aws s3 sync s3://earthbigdata/logs/ . --quiet"
   ]
  },
  {
   "cell_type": "code",
   "execution_count": 270,
   "metadata": {},
   "outputs": [],
   "source": [
    "def make_entry(ip_dict,date_dict,logfile):  \n",
    "    with open(logfile,\"r\") as f:\n",
    "        lines=f.readlines()\n",
    "    date = lines[0].split('[')[1].split('+')[0].strip()\n",
    "    date = dt.datetime.strptime(date,'%d/%b/%Y:%H:%M:%S')\n",
    "    ipaddr=lines[0].split(']')[1].split('-')[0].strip()\n",
    "    if not ipaddr in ip_dict:\n",
    "        ip_dict[ipaddr]=[]\n",
    "    if not date.date() in date_dict:\n",
    "        date_dict[date.date()]=0\n",
    "    ip_dict[ipaddr].append(date)\n",
    "    date_dict[date.date()]+=1\n",
    "    "
   ]
  },
  {
   "cell_type": "code",
   "execution_count": 271,
   "metadata": {},
   "outputs": [],
   "source": [
    "ip_dict={}\n",
    "date_dict={}\n",
    "\n",
    "for log in glob.glob('ebd-covid19*'):\n",
    "    make_entry(ip_dict,date_dict,log)"
   ]
  },
  {
   "cell_type": "code",
   "execution_count": 272,
   "metadata": {},
   "outputs": [],
   "source": [
    "access=pd.DataFrame.from_dict(date_dict,orient='index')"
   ]
  },
  {
   "cell_type": "code",
   "execution_count": 273,
   "metadata": {},
   "outputs": [
    {
     "data": {
      "application/vnd.holoviews_exec.v0+json": "",
      "text/html": [
       "<div id='1860' style='display: table; margin: 0 auto;'>\n",
       "\n",
       "\n",
       "\n",
       "\n",
       "\n",
       "  <div class=\"bk-root\" id=\"3196d661-13ff-49fb-aeb0-e3a6cfca41a4\" data-root-id=\"1860\"></div>\n",
       "</div>\n",
       "<script type=\"application/javascript\">(function(root) {\n",
       "  function embed_document(root) {\n",
       "    \n",
       "  var docs_json = {\"e6f2eaa6-b47f-4f51-a9f3-e0b48ce1c82c\":{\"roots\":{\"references\":[{\"attributes\":{\"align\":null,\"below\":[{\"id\":\"1869\",\"type\":\"LinearAxis\"}],\"center\":[{\"id\":\"1873\",\"type\":\"Grid\"},{\"id\":\"1877\",\"type\":\"Grid\"}],\"left\":[{\"id\":\"1874\",\"type\":\"CategoricalAxis\"}],\"margin\":null,\"min_border_bottom\":10,\"min_border_left\":10,\"min_border_right\":10,\"min_border_top\":10,\"plot_height\":300,\"plot_width\":700,\"renderers\":[{\"id\":\"1896\",\"type\":\"GlyphRenderer\"}],\"sizing_mode\":\"fixed\",\"title\":{\"id\":\"1861\",\"type\":\"Title\"},\"toolbar\":{\"id\":\"1883\",\"type\":\"Toolbar\"},\"x_range\":{\"id\":\"1857\",\"type\":\"Range1d\"},\"x_scale\":{\"id\":\"1865\",\"type\":\"LinearScale\"},\"y_range\":{\"id\":\"1858\",\"type\":\"FactorRange\"},\"y_scale\":{\"id\":\"1867\",\"type\":\"CategoricalScale\"}},\"id\":\"1860\",\"subtype\":\"Figure\",\"type\":\"Plot\"},{\"attributes\":{},\"id\":\"1870\",\"type\":\"BasicTicker\"},{\"attributes\":{},\"id\":\"1891\",\"type\":\"Selection\"},{\"attributes\":{\"text\":\"EBD COVID 19 Access\",\"text_color\":{\"value\":\"black\"},\"text_font_size\":{\"value\":\"12pt\"}},\"id\":\"1861\",\"type\":\"Title\"},{\"attributes\":{},\"id\":\"1865\",\"type\":\"LinearScale\"},{\"attributes\":{\"fill_alpha\":{\"value\":0.1},\"fill_color\":{\"value\":\"#1f77b3\"},\"height\":{\"value\":0.8},\"line_alpha\":{\"value\":0.1},\"line_color\":{\"value\":\"black\"},\"right\":{\"field\":\"A_0\"},\"y\":{\"field\":\"index\"}},\"id\":\"1894\",\"type\":\"HBar\"},{\"attributes\":{\"callback\":null,\"factors\":[\"2020-03-30\",\"2020-03-29\",\"2020-03-28\",\"2020-03-27\",\"2020-03-26\",\"2020-03-25\",\"2020-03-24\",\"2020-03-23\",\"2020-03-22\",\"2020-03-21\",\"2020-03-20\"],\"tags\":[[[\"index\",\"index\",null]]]},\"id\":\"1858\",\"type\":\"FactorRange\"},{\"attributes\":{},\"id\":\"1875\",\"type\":\"CategoricalTicker\"},{\"attributes\":{\"dimension\":1,\"ticker\":{\"id\":\"1875\",\"type\":\"CategoricalTicker\"}},\"id\":\"1877\",\"type\":\"Grid\"},{\"attributes\":{},\"id\":\"1878\",\"type\":\"SaveTool\"},{\"attributes\":{\"bounds\":\"auto\",\"formatter\":{\"id\":\"1901\",\"type\":\"CategoricalTickFormatter\"},\"major_label_orientation\":\"horizontal\",\"ticker\":{\"id\":\"1875\",\"type\":\"CategoricalTicker\"}},\"id\":\"1874\",\"type\":\"CategoricalAxis\"},{\"attributes\":{},\"id\":\"1899\",\"type\":\"BasicTickFormatter\"},{\"attributes\":{\"axis_label\":\"Access Times per day\",\"bounds\":\"auto\",\"formatter\":{\"id\":\"1899\",\"type\":\"BasicTickFormatter\"},\"major_label_orientation\":\"horizontal\",\"ticker\":{\"id\":\"1870\",\"type\":\"BasicTicker\"}},\"id\":\"1869\",\"type\":\"LinearAxis\"},{\"attributes\":{\"ticker\":{\"id\":\"1870\",\"type\":\"BasicTicker\"}},\"id\":\"1873\",\"type\":\"Grid\"},{\"attributes\":{\"source\":{\"id\":\"1890\",\"type\":\"ColumnDataSource\"}},\"id\":\"1897\",\"type\":\"CDSView\"},{\"attributes\":{},\"id\":\"1867\",\"type\":\"CategoricalScale\"},{\"attributes\":{},\"id\":\"1911\",\"type\":\"UnionRenderers\"},{\"attributes\":{\"callback\":null,\"data\":{\"A_0\":[29,441,361,408,563,715,721,1745,637,800,277],\"index\":[\"2020-03-30\",\"2020-03-29\",\"2020-03-28\",\"2020-03-27\",\"2020-03-26\",\"2020-03-25\",\"2020-03-24\",\"2020-03-23\",\"2020-03-22\",\"2020-03-21\",\"2020-03-20\"]},\"selected\":{\"id\":\"1891\",\"type\":\"Selection\"},\"selection_policy\":{\"id\":\"1911\",\"type\":\"UnionRenderers\"}},\"id\":\"1890\",\"type\":\"ColumnDataSource\"},{\"attributes\":{\"active_drag\":\"auto\",\"active_inspect\":\"auto\",\"active_multi\":null,\"active_scroll\":\"auto\",\"active_tap\":\"auto\",\"tools\":[{\"id\":\"1859\",\"type\":\"HoverTool\"},{\"id\":\"1878\",\"type\":\"SaveTool\"},{\"id\":\"1879\",\"type\":\"PanTool\"},{\"id\":\"1880\",\"type\":\"WheelZoomTool\"},{\"id\":\"1881\",\"type\":\"BoxZoomTool\"},{\"id\":\"1882\",\"type\":\"ResetTool\"}]},\"id\":\"1883\",\"type\":\"Toolbar\"},{\"attributes\":{\"bottom_units\":\"screen\",\"fill_alpha\":{\"value\":0.5},\"fill_color\":{\"value\":\"lightgrey\"},\"left_units\":\"screen\",\"level\":\"overlay\",\"line_alpha\":{\"value\":1.0},\"line_color\":{\"value\":\"black\"},\"line_dash\":[4,4],\"line_width\":{\"value\":2},\"render_mode\":\"css\",\"right_units\":\"screen\",\"top_units\":\"screen\"},\"id\":\"1909\",\"type\":\"BoxAnnotation\"},{\"attributes\":{},\"id\":\"1879\",\"type\":\"PanTool\"},{\"attributes\":{\"fill_alpha\":{\"value\":0.2},\"fill_color\":{\"value\":\"#1f77b3\"},\"height\":{\"value\":0.8},\"line_alpha\":{\"value\":0.2},\"line_color\":{\"value\":\"black\"},\"right\":{\"field\":\"A_0\"},\"y\":{\"field\":\"index\"}},\"id\":\"1895\",\"type\":\"HBar\"},{\"attributes\":{\"fill_color\":{\"value\":\"#1f77b3\"},\"height\":{\"value\":0.8},\"right\":{\"field\":\"A_0\"},\"y\":{\"field\":\"index\"}},\"id\":\"1893\",\"type\":\"HBar\"},{\"attributes\":{},\"id\":\"1880\",\"type\":\"WheelZoomTool\"},{\"attributes\":{\"callback\":null,\"end\":1916.6,\"reset_end\":1916.6,\"reset_start\":-142.60000000000002,\"start\":-142.60000000000002,\"tags\":[[[\"0\",\"0\",null]]]},\"id\":\"1857\",\"type\":\"Range1d\"},{\"attributes\":{},\"id\":\"1882\",\"type\":\"ResetTool\"},{\"attributes\":{\"callback\":null,\"renderers\":[{\"id\":\"1896\",\"type\":\"GlyphRenderer\"}],\"tags\":[\"hv_created\"],\"tooltips\":[[\"index\",\"@{index}\"],[\"0\",\"@{A_0}\"]]},\"id\":\"1859\",\"type\":\"HoverTool\"},{\"attributes\":{\"data_source\":{\"id\":\"1890\",\"type\":\"ColumnDataSource\"},\"glyph\":{\"id\":\"1893\",\"type\":\"HBar\"},\"hover_glyph\":null,\"muted_glyph\":{\"id\":\"1895\",\"type\":\"HBar\"},\"nonselection_glyph\":{\"id\":\"1894\",\"type\":\"HBar\"},\"selection_glyph\":null,\"view\":{\"id\":\"1897\",\"type\":\"CDSView\"}},\"id\":\"1896\",\"type\":\"GlyphRenderer\"},{\"attributes\":{},\"id\":\"1901\",\"type\":\"CategoricalTickFormatter\"},{\"attributes\":{\"overlay\":{\"id\":\"1909\",\"type\":\"BoxAnnotation\"}},\"id\":\"1881\",\"type\":\"BoxZoomTool\"}],\"root_ids\":[\"1860\"]},\"title\":\"Bokeh Application\",\"version\":\"1.4.0\"}};\n",
       "  var render_items = [{\"docid\":\"e6f2eaa6-b47f-4f51-a9f3-e0b48ce1c82c\",\"roots\":{\"1860\":\"3196d661-13ff-49fb-aeb0-e3a6cfca41a4\"}}];\n",
       "  root.Bokeh.embed.embed_items_notebook(docs_json, render_items);\n",
       "\n",
       "  }\n",
       "  if (root.Bokeh !== undefined) {\n",
       "    embed_document(root);\n",
       "  } else {\n",
       "    var attempts = 0;\n",
       "    var timer = setInterval(function(root) {\n",
       "      if (root.Bokeh !== undefined) {\n",
       "        clearInterval(timer);\n",
       "        embed_document(root);\n",
       "      } else {\n",
       "        attempts++;\n",
       "        if (attempts > 100) {\n",
       "          clearInterval(timer);\n",
       "          console.log(\"Bokeh: ERROR: Unable to run BokehJS code because BokehJS library is missing\");\n",
       "        }\n",
       "      }\n",
       "    }, 10, root)\n",
       "  }\n",
       "})(window);</script>"
      ],
      "text/plain": [
       ":Bars   [index]   (0)"
      ]
     },
     "execution_count": 273,
     "metadata": {
      "application/vnd.holoviews_exec.v0+json": {
       "id": "1860"
      }
     },
     "output_type": "execute_result"
    }
   ],
   "source": [
    "access.hvplot.barh(padding=0.1,grid=True,ylabel='Access Times per day',xlabel='',title='EBD COVID 19 Access')"
   ]
  },
  {
   "cell_type": "code",
   "execution_count": 274,
   "metadata": {},
   "outputs": [],
   "source": [
    "ip_count={}\n",
    "for i in ip_dict:\n",
    "    ip_count[i]=len(ip_dict[i])"
   ]
  },
  {
   "cell_type": "code",
   "execution_count": null,
   "metadata": {},
   "outputs": [],
   "source": [
    "access_count=pd.DataFrame.from_dict(ip_count,orient='index')\n",
    "\n",
    "access_count=access_count[access_count>=5].dropna()\n",
    "\n",
    "access_count = access_count.sort_values(0,ascending=False)\n",
    "\n",
    "access_count['nslookup']=''\n",
    "for i in access_count.index:\n",
    "    cmd='nslookup {}'.format(i)\n",
    "    try:\n",
    "        ret= sp.check_output(cmd.split())\n",
    "        nslookup = ret.decode().split('name = ')[1].split('\\n')[0].strip('.')\n",
    "        # print(nslookup)\n",
    "        access_count.loc[i,'nslookup']=nslookup\n",
    "    except:\n",
    "        pass"
   ]
  },
  {
   "cell_type": "code",
   "execution_count": null,
   "metadata": {},
   "outputs": [],
   "source": [
    "access_count.head(20)"
   ]
  }
 ],
 "metadata": {
  "kernelspec": {
   "display_name": "seppo",
   "language": "python",
   "name": "seppo"
  },
  "language_info": {
   "codemirror_mode": {
    "name": "ipython",
    "version": 3
   },
   "file_extension": ".py",
   "mimetype": "text/x-python",
   "name": "python",
   "nbconvert_exporter": "python",
   "pygments_lexer": "ipython3",
   "version": "3.7.6"
  }
 },
 "nbformat": 4,
 "nbformat_minor": 4
}
